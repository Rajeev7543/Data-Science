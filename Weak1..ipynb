{
 "cells": [
  {
   "cell_type": "markdown",
   "id": "2d4c1db1",
   "metadata": {},
   "source": [
    "# 1 print output"
   ]
  },
  {
   "cell_type": "code",
   "execution_count": null,
   "id": "bf5794f8",
   "metadata": {},
   "outputs": [],
   "source": [
    "print(\"Hello world\")"
   ]
  },
  {
   "cell_type": "code",
   "execution_count": null,
   "id": "da658255",
   "metadata": {},
   "outputs": [],
   "source": [
    "print(\"Hello\",1,1.3,True)"
   ]
  },
  {
   "cell_type": "code",
   "execution_count": null,
   "id": "7947b11e",
   "metadata": {},
   "outputs": [],
   "source": [
    "print(\"Hello\",1,1.3,True,sep=',')"
   ]
  },
  {
   "cell_type": "code",
   "execution_count": null,
   "id": "b1bb98c4",
   "metadata": {},
   "outputs": [],
   "source": [
    "print(\"Hello\")\n",
    "print(\"world\")"
   ]
  },
  {
   "cell_type": "code",
   "execution_count": null,
   "id": "f0cfe0c4",
   "metadata": {},
   "outputs": [],
   "source": [
    "print(\"Hello\",end=\"-\")\n",
    "print(\"world\")"
   ]
  },
  {
   "cell_type": "markdown",
   "id": "bbcfcba9",
   "metadata": {},
   "source": [
    "# 2 Data type"
   ]
  },
  {
   "cell_type": "code",
   "execution_count": null,
   "id": "3a111e40",
   "metadata": {},
   "outputs": [],
   "source": [
    "# integer\n",
    "print(8)\n",
    "print(1e308,\"\\n\")\n",
    "\n",
    "# decimal\n",
    "print(90.3)\n",
    "print(1.7e308,\"\\n\")\n",
    "\n",
    "# Boolean\n",
    "print(True)\n",
    "print(False,\"\\n\")\n",
    "\n",
    "# Text/String\n",
    "print(\"Rajeev\",\"\\n\")\n",
    "\n",
    "#Complex\n",
    "print(7+8j,\"\\n\")\n",
    "\n",
    "# List \n",
    "print([1,3,1,43],\"\\n\")\n",
    "\n"
   ]
  },
  {
   "cell_type": "code",
   "execution_count": null,
   "id": "f8e7a9e5",
   "metadata": {},
   "outputs": [],
   "source": [
    "# Type\n",
    "type(3)\n",
    "type(2.4)\n",
    "type(\"Rajeev\")"
   ]
  },
  {
   "cell_type": "markdown",
   "id": "fb2437ce",
   "metadata": {},
   "source": [
    "# 3 Variable - \"They are contener for future use \""
   ]
  },
  {
   "cell_type": "code",
   "execution_count": null,
   "id": "174d371b",
   "metadata": {},
   "outputs": [],
   "source": [
    "name=\"Rajeev\\n\"\n",
    "print(name)\n",
    "\n",
    "a=5\n",
    "b=6\n",
    "c=a+b\n",
    "print(c)"
   ]
  },
  {
   "cell_type": "code",
   "execution_count": null,
   "id": "9c2cf2f2",
   "metadata": {},
   "outputs": [],
   "source": [
    "# Dynamic Typing\n",
    "a=10\n",
    "print(a)\n",
    "# static Typing\n",
    "# int a=78\n",
    "# Dynamic Binding\n",
    "a=2\n",
    "print(a)\n",
    "a=\"Rajeev\"\n",
    "print(a)"
   ]
  },
  {
   "cell_type": "code",
   "execution_count": null,
   "id": "41234856",
   "metadata": {},
   "outputs": [],
   "source": [
    "a,b,c=1,2,3\n",
    "print(a,b,c)\n",
    "# a=1\n",
    "# b=2\n",
    "# c=3\n",
    "# print(a,b,c)"
   ]
  },
  {
   "cell_type": "markdown",
   "id": "5ee6d6a7",
   "metadata": {},
   "source": [
    "# 4 Comments"
   ]
  },
  {
   "cell_type": "code",
   "execution_count": null,
   "id": "412143a6",
   "metadata": {},
   "outputs": [],
   "source": [
    "# This is comments \n",
    "a,b,c=1,2,3\n",
    "print(a,b,c)\n"
   ]
  },
  {
   "cell_type": "markdown",
   "id": "c794a8b2",
   "metadata": {},
   "source": [
    "# 4 Keywords & Identifiers"
   ]
  },
  {
   "cell_type": "code",
   "execution_count": null,
   "id": "9f429595",
   "metadata": {},
   "outputs": [],
   "source": [
    "# keywords - false,if,else,or,from,with,def.del.elif,as,and,class,for,in etc.\n",
    "# identifiers - class name ,\n",
    "# you can't start with digit,you can use special chars -> _"
   ]
  },
  {
   "cell_type": "code",
   "execution_count": null,
   "id": "c8329d83",
   "metadata": {},
   "outputs": [],
   "source": [
    "# User inputs\n",
    "# string is univeral formate\n",
    "# static does not use user input\n",
    "# Dynamic it use \n",
    "\n",
    "\n",
    "Age = 45  #int(input(\"Enter Age:-\"))\n",
    "print(Age)"
   ]
  },
  {
   "cell_type": "code",
   "execution_count": null,
   "id": "f193a3b5",
   "metadata": {},
   "outputs": [],
   "source": [
    "a=44 #int(input(\"Enter first number:-\"))\n",
    "b=11 #int(input(\"Enter first number:-\"))\n",
    "print(a+b)\n"
   ]
  },
  {
   "cell_type": "markdown",
   "id": "18a33774",
   "metadata": {},
   "source": [
    "# Type conversion"
   ]
  },
  {
   "cell_type": "code",
   "execution_count": null,
   "id": "1943341f",
   "metadata": {},
   "outputs": [],
   "source": [
    "# implicit\n",
    "print(3)\n",
    "print(type(3))"
   ]
  },
  {
   "cell_type": "code",
   "execution_count": null,
   "id": "6068a624",
   "metadata": {},
   "outputs": [],
   "source": [
    "# int=('50')\n",
    "# print(type(int))\n",
    "a=7\n",
    "a=str(7)\n",
    "print(a)"
   ]
  },
  {
   "cell_type": "code",
   "execution_count": null,
   "id": "391a2573",
   "metadata": {},
   "outputs": [],
   "source": [
    "str(4)"
   ]
  },
  {
   "cell_type": "code",
   "execution_count": null,
   "id": "04935792",
   "metadata": {},
   "outputs": [],
   "source": [
    "# String ko integer me convert karne ka program\n",
    "str_num = \"123\"\n",
    "integer_num = int(str_num)\n",
    "print(\"String ko integer me convert kiya gaya hai:-\", integer_num)\n"
   ]
  },
  {
   "cell_type": "markdown",
   "id": "83c79cea",
   "metadata": {},
   "source": [
    "# 7 Literals - variable ke andar jis value ko store kiya jata hai usi ko literal bola jata hai "
   ]
  },
  {
   "cell_type": "code",
   "execution_count": null,
   "id": "c2fa7a98",
   "metadata": {},
   "outputs": [],
   "source": [
    "a=0b1010\n",
    "b=10\n",
    "c=12.3\n",
    "d=0o310\n",
    "e=1.3e3 # 1.3*10^3\n",
    "print(a)\n",
    "print(b)\n",
    "print(c)\n",
    "print(d)\n",
    "print(e)"
   ]
  },
  {
   "cell_type": "code",
   "execution_count": null,
   "id": "bdc93eb7",
   "metadata": {},
   "outputs": [],
   "source": [
    "x=3+5.4j\n",
    "print(x.real,\",\",x.imag)"
   ]
  },
  {
   "cell_type": "code",
   "execution_count": null,
   "id": "3eefa96e",
   "metadata": {},
   "outputs": [],
   "source": [
    "a=True+3 # true =1\n",
    "b=False+5 # false =0\n",
    "print(a)\n",
    "print(b)"
   ]
  },
  {
   "cell_type": "code",
   "execution_count": null,
   "id": "55a4806a",
   "metadata": {},
   "outputs": [],
   "source": [
    "k=None\n",
    "a=9\n",
    "c=8\n",
    "print(a,c)"
   ]
  },
  {
   "cell_type": "markdown",
   "id": "a25ae07c",
   "metadata": {},
   "source": [
    "# Operators"
   ]
  },
  {
   "cell_type": "code",
   "execution_count": null,
   "id": "e40bcaa5",
   "metadata": {},
   "outputs": [],
   "source": [
    "# Arithmetric operators\n",
    "print(3+4)\n",
    "print(5-4)\n",
    "print(8*3)\n",
    "print(5/2)\n",
    "print(12%3)\n",
    "print(5//2) # integer division"
   ]
  },
  {
   "cell_type": "code",
   "execution_count": null,
   "id": "d7518d4f",
   "metadata": {},
   "outputs": [],
   "source": [
    "# Relation operator\n",
    "print(4>5)\n",
    "print(5<=4)\n",
    "print(4==4)\n",
    "print(4!=8)"
   ]
  },
  {
   "cell_type": "code",
   "execution_count": null,
   "id": "b0f68e0c",
   "metadata": {},
   "outputs": [],
   "source": [
    "# Logical operator\n",
    "# print(1 and 0)\n",
    "# print(1 or 0)\n",
    "a=19\n",
    "b=20\n",
    "c=20\n",
    "print(a and b ==b and c)"
   ]
  },
  {
   "cell_type": "code",
   "execution_count": null,
   "id": "2709702c",
   "metadata": {},
   "outputs": [],
   "source": [
    "# bitwise \n",
    "print(2 & 3)\n",
    "print(2 | 3)\n",
    "print(2^3)\n",
    "print(~9) # -(+1+9)"
   ]
  },
  {
   "cell_type": "code",
   "execution_count": null,
   "id": "53c67e4e",
   "metadata": {},
   "outputs": [],
   "source": [
    "# Assignment operator\n",
    "# =\n",
    "a=22\n",
    "a +=2\n",
    "print(a)"
   ]
  },
  {
   "cell_type": "code",
   "execution_count": null,
   "id": "63132696",
   "metadata": {},
   "outputs": [],
   "source": [
    "# Membership\n",
    "a=\"Rajeev\"\n",
    "print(\"R\" in a)\n",
    "print(2 not in  [33,23,22,12])"
   ]
  },
  {
   "cell_type": "code",
   "execution_count": null,
   "id": "aa8af483",
   "metadata": {},
   "outputs": [],
   "source": [
    "num=int(input(\"Enter three digit number:-\"))\n",
    "a=num%10\n",
    "num=num//10 # integer division\n",
    "b=num%10\n",
    "num=num//10\n",
    "c=num%10\n",
    "print(a+b+c)"
   ]
  },
  {
   "cell_type": "markdown",
   "id": "e8949199",
   "metadata": {},
   "source": [
    "# if else in Python"
   ]
  },
  {
   "cell_type": "code",
   "execution_count": null,
   "id": "b45e7ac7",
   "metadata": {},
   "outputs": [],
   "source": [
    "email=input(\"Enter Email:-\")\n",
    "password=input(\"Enter password:-\")\n",
    "if email == \"rairajesh987@gmail.com\" or password == 12345:\n",
    "    print(\"Welcome Rajeev Rai\")\n",
    "else:\n",
    "    print(\"Wrong email and password\")"
   ]
  },
  {
   "cell_type": "code",
   "execution_count": null,
   "id": "ac83bea9",
   "metadata": {},
   "outputs": [],
   "source": [
    "a=int(input(\"Enter first number\"))\n",
    "b=int(input(\"Enter second number\"))\n",
    "c=int(input(\"Enter third number\"))\n",
    "if a<b and a<c:\n",
    "    print(\"a is smallest\",a)\n",
    "elif b<a and b<c:\n",
    "    print(\"b is smaller\",b)\n",
    "else:\n",
    "    print(\"c is smaalest\")"
   ]
  },
  {
   "cell_type": "code",
   "execution_count": null,
   "id": "832cfd8f",
   "metadata": {},
   "outputs": [],
   "source": [
    "a=int(input(\"Enter first number\"))\n",
    "b=int(input(\"Enter second number\"))\n",
    "op = input(\"Enter the operation:-\")\n",
    "if op ==\"+\":\n",
    "    print(\"Addition:-\",a+b)\n",
    "elif op==\"-\":\n",
    "    print(\"Substraction:-\",a-b)\n",
    "elif op==\"*\":\n",
    "    print(\"multiplication:-\",a*b)\n",
    "else:\n",
    "    print(\"Division:-\",a/b)"
   ]
  },
  {
   "cell_type": "code",
   "execution_count": null,
   "id": "7d5e0d4b",
   "metadata": {},
   "outputs": [],
   "source": [
    "menu =input(\"\"\"\n",
    "Hi How can I help you Sir.\n",
    "1. Enter 1 for pin change.\n",
    "2. Enter 2 for balance check.\n",
    "3. Enter 3 for case withdrawl.\n",
    "4. Enter 4 for Exit.\n",
    "\"\"\")\n",
    "if menu =='1':\n",
    "    print('pin change:-')\n",
    "elif menu =='2':\n",
    "    print(\"balance chek\")\n",
    "elif menu =='3':\n",
    "    print(\"case withdrawl\")\n",
    "else:\n",
    "    print(\"Exit\")"
   ]
  },
  {
   "cell_type": "markdown",
   "id": "6260e0fb",
   "metadata": {},
   "source": [
    "# Modules in python:-\n",
    "# Yadi koyi code likha hai pahle se to mai use impliment kar sakta hu like random, math, keywords etc"
   ]
  },
  {
   "cell_type": "code",
   "execution_count": null,
   "id": "7602b098",
   "metadata": {},
   "outputs": [],
   "source": [
    "# math \n",
    "import math\n",
    "math.sqrt(4)\n",
    "# math.floor(6.8)"
   ]
  },
  {
   "cell_type": "code",
   "execution_count": null,
   "id": "5d98f908",
   "metadata": {},
   "outputs": [],
   "source": [
    "# keywords\n",
    "import keyword\n",
    "print(keyword.kwlist)"
   ]
  },
  {
   "cell_type": "code",
   "execution_count": null,
   "id": "83b331bf",
   "metadata": {},
   "outputs": [],
   "source": [
    "# random\n",
    "import random\n",
    "print(random.randint(1,100))\n"
   ]
  },
  {
   "cell_type": "code",
   "execution_count": null,
   "id": "fce22655",
   "metadata": {},
   "outputs": [],
   "source": [
    "# datetime\n",
    "import datetime\n",
    "print(datetime.datetime.now())"
   ]
  },
  {
   "cell_type": "markdown",
   "id": "df992df5",
   "metadata": {},
   "source": [
    "# Loop in python\n"
   ]
  },
  {
   "cell_type": "code",
   "execution_count": null,
   "id": "97c05c92",
   "metadata": {},
   "outputs": [],
   "source": [
    "# while loop\n",
    "num=int(input(\"Enter the number\"))\n",
    "i=1\n",
    "while i<11:\n",
    "    print(num,\"*\",i,\"=\",num*i)\n",
    "    i +=1"
   ]
  },
  {
   "cell_type": "code",
   "execution_count": null,
   "id": "6f4d4c29",
   "metadata": {},
   "outputs": [],
   "source": [
    "# while loop else\n",
    "a=1\n",
    "while a<5:\n",
    "    print(a)\n",
    "    a+=1\n",
    "else:\n",
    "    print(\"limit crossed:-\")"
   ]
  },
  {
   "cell_type": "code",
   "execution_count": null,
   "id": "50ba2f14",
   "metadata": {},
   "outputs": [],
   "source": [
    "for i in range (1,11):  \n",
    "    print(i)"
   ]
  },
  {
   "cell_type": "code",
   "execution_count": null,
   "id": "43b2cce7",
   "metadata": {},
   "outputs": [],
   "source": [
    "import random\n",
    "\n",
    "Rajeev = random.randint(1, 100)\n",
    "counter = 0  # Initialize counter to 0\n",
    "\n",
    "while True:\n",
    "    guess = int(input(\"guess karo:-\"))\n",
    "    counter += 1  # Increment counter for each guess\n",
    "\n",
    "    if guess < Rajeev:\n",
    "        print('Galat guess Higher')\n",
    "    elif guess > Rajeev:\n",
    "        print('Galat guess Lower')\n",
    "    else:\n",
    "        print(\"correct guess\")\n",
    "        print(\"attempts\", counter)\n",
    "        break  # Exit the loop when correct guess is made\n"
   ]
  },
  {
   "cell_type": "code",
   "execution_count": null,
   "id": "098b8a33",
   "metadata": {},
   "outputs": [],
   "source": [
    "for i in range(1,100,20):\n",
    "    print(i)"
   ]
  },
  {
   "cell_type": "code",
   "execution_count": null,
   "id": "73f07054",
   "metadata": {},
   "outputs": [],
   "source": [
    "curr_pop=10000000\n",
    "for i in range(2020,2000,-1):\n",
    "    print(i,curr_pop)\n",
    "    curr_pop=curr_pop/1.1\n"
   ]
  },
  {
   "cell_type": "markdown",
   "id": "7421a17e",
   "metadata": {},
   "source": [
    "# Sequence Sum"
   ]
  },
  {
   "cell_type": "code",
   "execution_count": null,
   "id": "2a10d522",
   "metadata": {},
   "outputs": [],
   "source": [
    "num=int(input(\"Enter number:-\"))\n",
    "result=0\n",
    "fact=1\n",
    "for i in range(1,num+1):\n",
    "    fact=fact*i\n",
    "    result=result + i/fact\n",
    "print(result)"
   ]
  },
  {
   "cell_type": "code",
   "execution_count": null,
   "id": "9694868a",
   "metadata": {},
   "outputs": [],
   "source": [
    "num=int(input(\"Enter number:-\"))\n",
    "result=0\n",
    "for i in range(1,num+1):\n",
    "    result=result+i\n",
    "print(result)\n",
    "    "
   ]
  },
  {
   "cell_type": "markdown",
   "id": "eaa425a6",
   "metadata": {},
   "source": [
    "# Nested Loop"
   ]
  },
  {
   "cell_type": "code",
   "execution_count": null,
   "id": "0d6ff135",
   "metadata": {},
   "outputs": [],
   "source": [
    "for i in range(1,5):\n",
    "    for j in range(1,4):\n",
    "        print(i,j)"
   ]
  },
  {
   "cell_type": "code",
   "execution_count": null,
   "id": "e7652bf6",
   "metadata": {},
   "outputs": [],
   "source": [
    "rows=int(input(\"number of rows\"))\n",
    "for i in range(1,rows+1):\n",
    "    for j in range(1,i+1):\n",
    "        print(\"*\",end=\"\")\n",
    "    print()"
   ]
  },
  {
   "cell_type": "code",
   "execution_count": null,
   "id": "097b0d3e",
   "metadata": {},
   "outputs": [],
   "source": [
    "rows=int(input(\"number of rows\"))\n",
    "for i in range(1,rows+1):\n",
    "    for j in range(1,i+1):\n",
    "        print(j,end=\"\")\n",
    "    for k in range(i-1,0,-1):\n",
    "        print(k,end=\"\")\n",
    "    print()"
   ]
  },
  {
   "cell_type": "markdown",
   "id": "91f0519c",
   "metadata": {},
   "source": [
    "# Loop control Statement"
   ]
  },
  {
   "cell_type": "code",
   "execution_count": null,
   "id": "65773254",
   "metadata": {},
   "outputs": [],
   "source": [
    "for i in range(1,10):\n",
    "    if i==6:\n",
    "        break\n",
    "    print(i,end=\" \")"
   ]
  },
  {
   "cell_type": "code",
   "execution_count": null,
   "id": "07be8645",
   "metadata": {},
   "outputs": [],
   "source": [
    "lower =int(input(\"enter lower range:\"))\n",
    "\n",
    "upper =int(input(\"enter upper range:\"))\n",
    "for i in range(lower,upper+1):\n",
    "    for j in range(2,i):\n",
    "        if i%j==0:\n",
    "            break\n",
    "    else:\n",
    "        print(i)"
   ]
  },
  {
   "cell_type": "markdown",
   "id": "54530214",
   "metadata": {},
   "source": [
    "# continue Statement"
   ]
  },
  {
   "cell_type": "code",
   "execution_count": null,
   "id": "8de3a863",
   "metadata": {},
   "outputs": [],
   "source": [
    "for i in range(1,10):\n",
    "    if i==6:\n",
    "        continue\n",
    "    print(i,end=\" \")"
   ]
  },
  {
   "cell_type": "markdown",
   "id": "5a52c85c",
   "metadata": {},
   "source": [
    "# String:-\n",
    "# collection of characters.\n",
    "# In python specifically , string a sequence of unicode characters"
   ]
  },
  {
   "cell_type": "code",
   "execution_count": null,
   "id": "d3c808ef",
   "metadata": {},
   "outputs": [],
   "source": [
    "#  create string\n",
    "s=\"hello\"\n",
    "print(s)\n",
    "a=\"\"\"Mammy ask Rajeev.\n",
    "where are you going\"\"\" \n",
    "print(a)\n",
    "b=\"Rajeev is't going to market\"\n",
    "print(b)"
   ]
  },
  {
   "cell_type": "code",
   "execution_count": null,
   "id": "1a03542e",
   "metadata": {},
   "outputs": [],
   "source": [
    "# positive indexing\n",
    "s=\"Hello Rajeev Bhai\"\n",
    "print(s[:10])\n",
    "print(s[:12])\n",
    "# negative indexing\n",
    "b=\"Rajeev is't going to market\"\n",
    "print(b[-7:])"
   ]
  },
  {
   "cell_type": "code",
   "execution_count": null,
   "id": "d27d9daf",
   "metadata": {},
   "outputs": [],
   "source": [
    "# Editing\n",
    "a=\"Rajeev\"\n",
    "# Python string are immutable"
   ]
  },
  {
   "cell_type": "code",
   "execution_count": null,
   "id": "e9629f76",
   "metadata": {},
   "outputs": [],
   "source": [
    "# delete\n",
    "a=\"Rajeev\"\n",
    "# del a\n",
    "print(a)"
   ]
  },
  {
   "cell_type": "code",
   "execution_count": null,
   "id": "93a6e615",
   "metadata": {},
   "outputs": [],
   "source": [
    "# operation\n",
    "print(\"Atul\" + ' '+\"Rajeev\")\n",
    "print(\"Raj\" * 4)"
   ]
  },
  {
   "cell_type": "code",
   "execution_count": null,
   "id": "2836e6b8",
   "metadata": {},
   "outputs": [],
   "source": [
    "# Relation \n",
    "\"Raj\"==\"Rajeev\"\n"
   ]
  },
  {
   "cell_type": "code",
   "execution_count": null,
   "id": "4fc96b2f",
   "metadata": {},
   "outputs": [],
   "source": [
    "\"Rajeev\"==\"Rajeev\""
   ]
  },
  {
   "cell_type": "code",
   "execution_count": null,
   "id": "9c7569f3",
   "metadata": {},
   "outputs": [],
   "source": [
    "'mumbai'>'pune'\n",
    "# lexiographically esame m pahle aaya hai or p baad me aaya hai p<m hoga"
   ]
  },
  {
   "cell_type": "code",
   "execution_count": null,
   "id": "cd9ea5ac",
   "metadata": {},
   "outputs": [],
   "source": [
    "# Logical\n",
    "'hello' and 'wolrd'"
   ]
  },
  {
   "cell_type": "code",
   "execution_count": null,
   "id": "a5e59fb1",
   "metadata": {},
   "outputs": [],
   "source": [
    "'hello' or 'wolrd'"
   ]
  },
  {
   "cell_type": "code",
   "execution_count": null,
   "id": "b82e9d9c",
   "metadata": {},
   "outputs": [],
   "source": [
    "for i in  \"Rajeev\":\n",
    "    print(i)"
   ]
  },
  {
   "cell_type": "code",
   "execution_count": null,
   "id": "342fa2e5",
   "metadata": {},
   "outputs": [],
   "source": [
    "# common function\n",
    "b=\"Rajeev is't going to market\"\n",
    "print(len(b))"
   ]
  },
  {
   "cell_type": "code",
   "execution_count": null,
   "id": "675fcba3",
   "metadata": {},
   "outputs": [],
   "source": [
    "max(\"Rajeev is't going to market\") # ASCII par work karta hai"
   ]
  },
  {
   "cell_type": "code",
   "execution_count": null,
   "id": "1ff2dce6",
   "metadata": {},
   "outputs": [],
   "source": [
    "min(\"Rajeev is't going to market\")"
   ]
  },
  {
   "cell_type": "code",
   "execution_count": null,
   "id": "a4335c22",
   "metadata": {},
   "outputs": [],
   "source": [
    "sorted(\"Rajeev\",reverse=True)"
   ]
  },
  {
   "cell_type": "code",
   "execution_count": null,
   "id": "2fad02d7",
   "metadata": {},
   "outputs": [],
   "source": [
    "# Capitalize/Title/Upper/Lower"
   ]
  },
  {
   "cell_type": "code",
   "execution_count": null,
   "id": "61fdf7d3",
   "metadata": {},
   "outputs": [],
   "source": [
    "b=\"Rajeev is't going to market\"\n",
    "b.capitalize()"
   ]
  },
  {
   "cell_type": "code",
   "execution_count": null,
   "id": "f3f71195",
   "metadata": {},
   "outputs": [],
   "source": [
    "b=\"Rajeev is't going to market\"\n",
    "b.title()"
   ]
  },
  {
   "cell_type": "code",
   "execution_count": null,
   "id": "19d3863e",
   "metadata": {},
   "outputs": [],
   "source": [
    "b=\"Rajeev is't going to market\"\n",
    "b.upper()\n"
   ]
  },
  {
   "cell_type": "code",
   "execution_count": null,
   "id": "11f2cdd6",
   "metadata": {},
   "outputs": [],
   "source": [
    "b=\"Rajeev is't going to market\"\n",
    "b.lower()"
   ]
  },
  {
   "cell_type": "code",
   "execution_count": null,
   "id": "83bd6dd7",
   "metadata": {},
   "outputs": [],
   "source": [
    "b=\"Rajeev is't going to market\"\n",
    "b.swapcase()"
   ]
  },
  {
   "cell_type": "code",
   "execution_count": null,
   "id": "3fdb3f46",
   "metadata": {},
   "outputs": [],
   "source": [
    "# Count ,Find,index\n",
    "b=\"Rajeev is't going to market\"\n",
    "b.count('e')"
   ]
  },
  {
   "cell_type": "code",
   "execution_count": null,
   "id": "b4767b15",
   "metadata": {},
   "outputs": [],
   "source": [
    "b=\"Rajeev is't going to market\" # yadi ham kuchh yesa search kare ki kuchhho hi na jisame ham search \n",
    "# kar rahe hai to -1 return karta hai but index me yesa nahi hota hai vah error so karta hai.\n",
    "b.find(\"k\")"
   ]
  },
  {
   "cell_type": "code",
   "execution_count": null,
   "id": "f8272d9c",
   "metadata": {},
   "outputs": [],
   "source": [
    "b=\"Rajeev is't going to market\"\n",
    "b.index(\"k\")"
   ]
  },
  {
   "cell_type": "code",
   "execution_count": null,
   "id": "594b3a01",
   "metadata": {},
   "outputs": [],
   "source": [
    "# endswith/startwith"
   ]
  },
  {
   "cell_type": "code",
   "execution_count": null,
   "id": "8b5140aa",
   "metadata": {},
   "outputs": [],
   "source": [
    "b=\"Rajeev is't going to market\"\n",
    "b.endswith(\"et\")"
   ]
  },
  {
   "cell_type": "code",
   "execution_count": null,
   "id": "275e77a0",
   "metadata": {},
   "outputs": [],
   "source": [
    "b=\"Rajeev is't going to market\"\n",
    "b.startswith(\"ar\")"
   ]
  },
  {
   "cell_type": "code",
   "execution_count": null,
   "id": "2f71bbc9",
   "metadata": {},
   "outputs": [],
   "source": [
    "# Format\n",
    "name=\"Rajeev\"\n",
    "gender=\"male\"\n",
    "\"Hi my name is {} and I am a {}\".format(name,gender)"
   ]
  },
  {
   "cell_type": "markdown",
   "id": "987244f0",
   "metadata": {},
   "source": [
    "# isalnum/isalpha/isdigit/isidentifier"
   ]
  },
  {
   "cell_type": "code",
   "execution_count": null,
   "id": "8d5dcef6",
   "metadata": {},
   "outputs": [],
   "source": [
    "\"Rajeev\".isalpha()\n"
   ]
  },
  {
   "cell_type": "code",
   "execution_count": null,
   "id": "bf88b8e1",
   "metadata": {},
   "outputs": [],
   "source": [
    "b=\"Rajeev\"\n",
    "b.isdigit()"
   ]
  },
  {
   "cell_type": "code",
   "execution_count": null,
   "id": "2c559d88",
   "metadata": {},
   "outputs": [],
   "source": [
    "b=\"Rajeev_atul\"\n",
    "b.isidentifier()"
   ]
  },
  {
   "cell_type": "code",
   "execution_count": null,
   "id": "8608116d",
   "metadata": {},
   "outputs": [],
   "source": [
    "b=\"Rajeev\"\n",
    "b.isalnum()"
   ]
  },
  {
   "cell_type": "code",
   "execution_count": null,
   "id": "edae620c",
   "metadata": {},
   "outputs": [],
   "source": [
    "# Split/join\n",
    "b=\"Rajeev is't going to market\"\n",
    "b.split()"
   ]
  },
  {
   "cell_type": "code",
   "execution_count": null,
   "id": "2bb02c60",
   "metadata": {},
   "outputs": [],
   "source": [
    "b=\"Rajeev is't going to market\"\n",
    "\"\".join(b)\n"
   ]
  },
  {
   "cell_type": "code",
   "execution_count": null,
   "id": "89edd312",
   "metadata": {},
   "outputs": [],
   "source": [
    "# Replace\n",
    "b=\"Rajeev is't going to market\"\n",
    "b.replace(\"is't\",\"is\")"
   ]
  },
  {
   "cell_type": "markdown",
   "id": "6b27633c",
   "metadata": {},
   "source": [
    "# Strip\n"
   ]
  },
  {
   "cell_type": "code",
   "execution_count": null,
   "id": "bd1511b1",
   "metadata": {},
   "outputs": [],
   "source": [
    "\"Rajeev            \".strip()              "
   ]
  },
  {
   "cell_type": "code",
   "execution_count": null,
   "id": "eded3936",
   "metadata": {},
   "outputs": [],
   "source": []
  }
 ],
 "metadata": {
  "kernelspec": {
   "display_name": "Python 3 (ipykernel)",
   "language": "python",
   "name": "python3"
  },
  "language_info": {
   "codemirror_mode": {
    "name": "ipython",
    "version": 3
   },
   "file_extension": ".py",
   "mimetype": "text/x-python",
   "name": "python",
   "nbconvert_exporter": "python",
   "pygments_lexer": "ipython3",
   "version": "3.10.9"
  }
 },
 "nbformat": 4,
 "nbformat_minor": 5
}
