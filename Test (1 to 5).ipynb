{
 "cells": [
  {
   "cell_type": "markdown",
   "id": "35ad9c05",
   "metadata": {},
   "source": [
    "# Test 1"
   ]
  },
  {
   "cell_type": "code",
   "execution_count": 1,
   "id": "736e2782",
   "metadata": {},
   "outputs": [
    {
     "name": "stdout",
     "output_type": "stream",
     "text": [
      "Data-Science-Mentorship-Program-By-CampusX\n"
     ]
    }
   ],
   "source": [
    "# # 1 :- Print the given strings as per stated format.\n",
    "# # Given strings:\n",
    "\n",
    "print(\"Data\",\"Science\",\"Mentorship\",\"Program\",\"By\",\"CampusX\",sep=\"-\")\n",
    "\n"
   ]
  },
  {
   "cell_type": "code",
   "execution_count": 2,
   "id": "441a8bf6",
   "metadata": {},
   "outputs": [
    {
     "name": "stdout",
     "output_type": "stream",
     "text": [
      "Enter celsius value:-87\n",
      "188.6\n"
     ]
    }
   ],
   "source": [
    "# Q2:- Write a program that will convert celsius value to fahrenheit.\n",
    "\n",
    "celsius=int(input(\"Enter celsius value:-\"))\n",
    "faren=celsius*9/5+32\n",
    "print(faren)"
   ]
  },
  {
   "cell_type": "code",
   "execution_count": 3,
   "id": "7e7ac284",
   "metadata": {},
   "outputs": [
    {
     "name": "stdout",
     "output_type": "stream",
     "text": [
      "5\n",
      "6\n"
     ]
    }
   ],
   "source": [
    "# # Q3:- Take 2 numbers as input from the user.Write a program to swap the numbers without using any special python syntax.\n",
    "# a=5\n",
    "# b=4\n",
    "# a,b=b,a\n",
    "# print(a)\n",
    "# print(b)\n",
    "a=6\n",
    "b=5\n",
    "temp=a\n",
    "a=b\n",
    "b=temp\n",
    "print(a)\n",
    "print(b)"
   ]
  },
  {
   "cell_type": "code",
   "execution_count": 4,
   "id": "13819c59",
   "metadata": {},
   "outputs": [
    {
     "name": "stdout",
     "output_type": "stream",
     "text": [
      "Enter the number:-45\n",
      "Enter the number:-54\n",
      "Enter the number:-34\n",
      "Enter the number:-23\n",
      "32.89\n"
     ]
    }
   ],
   "source": [
    "# #Q4:- Write a program to find the euclidean distance between two coordinates.Take both the coordinates from the user as input.\n",
    "a1x=int(input(\"Enter the number:-\"))\n",
    "a1y=int(input(\"Enter the number:-\"))\n",
    "a2x=int(input(\"Enter the number:-\"))\n",
    "a2y=int(input(\"Enter the number:-\"))\n",
    "distance=((a1x-a2x)**2+(a1y-a2y)**2)**0.5\n",
    "print(round(distance,2))"
   ]
  },
  {
   "cell_type": "code",
   "execution_count": 5,
   "id": "d655ef30",
   "metadata": {},
   "outputs": [
    {
     "name": "stdout",
     "output_type": "stream",
     "text": [
      "Enter the amount:-100\n",
      "Enter the time:-12\n",
      "Enter the rate:-23\n",
      "simple interest:- 276.0\n"
     ]
    }
   ],
   "source": [
    "# # Q5:- Write a program to find the simple interest when the value of principle,rate of interest and time period is provided by the user.\n",
    "p=int(input(\"Enter the amount:-\"))\n",
    "t=int(input(\"Enter the time:-\"))\n",
    "r=int(input(\"Enter the rate:-\"))\n",
    "SI=p*t*r/100\n",
    "print(\"simple interest:-\",SI)"
   ]
  },
  {
   "cell_type": "code",
   "execution_count": 6,
   "id": "431ee955",
   "metadata": {},
   "outputs": [
    {
     "name": "stdout",
     "output_type": "stream",
     "text": [
      "Enter the total number of heads: 20\n",
      "Enter the total number of legs: 120\n",
      "No valid solution found.\n"
     ]
    }
   ],
   "source": [
    "# # Q6:- Write a program that will tell the number of dogs and chicken are there when the user will provide the value of total heads and legs.\n",
    "def calculate_animals(total_heads, total_legs):\n",
    "    # Initialize variables for number of dogs and chickens\n",
    "    num_dogs = 0\n",
    "    num_chickens = 0\n",
    "\n",
    "    # Calculate number of dogs\n",
    "    for num_dogs in range(total_heads + 1):\n",
    "        num_chickens = total_heads - num_dogs\n",
    "        if (4 * num_dogs + 2 * num_chickens) == total_legs:\n",
    "            return num_dogs, num_chickens\n",
    "\n",
    "    # If no solution found\n",
    "    return None, None\n",
    "\n",
    "# Input total heads and total legs from the user\n",
    "total_heads = int(input(\"Enter the total number of heads: \"))\n",
    "total_legs = int(input(\"Enter the total number of legs: \"))\n",
    "\n",
    "# Calculate the number of dogs and chickens\n",
    "num_dogs, num_chickens = calculate_animals(total_heads, total_legs)\n",
    "\n",
    "# Output the results\n",
    "if num_dogs is not None and num_chickens is not None:\n",
    "    print(\"Number of dogs:\", num_dogs)\n",
    "    print(\"Number of chickens:\", num_chickens)\n",
    "else:\n",
    "    print(\"No valid solution found.\")\n"
   ]
  },
  {
   "cell_type": "code",
   "execution_count": 7,
   "id": "ac2373ca",
   "metadata": {},
   "outputs": [
    {
     "name": "stdout",
     "output_type": "stream",
     "text": [
      "Enter number:-345\n",
      "13747445.0\n"
     ]
    }
   ],
   "source": [
    "# # Q7:- Write a program to find the sum of squares of first n natural numbers where n will be provided by the user.\n",
    "n=int(input(\"Enter number:-\"))\n",
    "squre=n*(n+1)*(2*n+1)/6\n",
    "print(squre)\n",
    "\n",
    "# #for loop ka use kar ke\n",
    "# n=int(input(\"enter number:-\"))\n",
    "# result=0\n",
    "# for i in range(1,n+1):\n",
    "    \n",
    "#     result +=i**2\n",
    "# print(result)"
   ]
  },
  {
   "cell_type": "code",
   "execution_count": 8,
   "id": "1b7f6aa9",
   "metadata": {},
   "outputs": [
    {
     "name": "stdout",
     "output_type": "stream",
     "text": [
      "11\n",
      "Enter first number:-22\n",
      "Enter second number:-33\n",
      "Enter the number of terms:-23\n",
      "245\n"
     ]
    }
   ],
   "source": [
    "# Q8:- Given the first 2 terms of an Arithmetic Series.Find the Nth term of the series. Assume all inputs are provided by the user.\n",
    "a=3\n",
    "d=2\n",
    "n=5\n",
    "an=a+(n-1)*d\n",
    "print(an)\n",
    "\n",
    "first_value=int(input(\"Enter first number:-\"))\n",
    "second_value=int(input(\"Enter second number:-\"))\n",
    "\n",
    "n=int(input(\"Enter the number of terms:-\"))\n",
    "d=second_value-first_value\n",
    "an=a+(n-1)*d\n",
    "print(an)\n"
   ]
  },
  {
   "cell_type": "code",
   "execution_count": 9,
   "id": "8e5efd06",
   "metadata": {},
   "outputs": [
    {
     "name": "stdout",
     "output_type": "stream",
     "text": [
      "Enter number:-22\n",
      "Enter number:-32\n",
      "Enter the number of terms:-3\n",
      "23\n"
     ]
    }
   ],
   "source": [
    "first_value=int(input(\"Enter number:-\"))\n",
    "second_value=int(input(\"Enter number:-\"))\n",
    "\n",
    "n=int(input(\"Enter the number of terms:-\"))\n",
    "d=second_value-first_value\n",
    "an=a+(n-1)*d\n",
    "print(an)\n"
   ]
  },
  {
   "cell_type": "code",
   "execution_count": 10,
   "id": "d1c8f41c",
   "metadata": {},
   "outputs": [
    {
     "name": "stdout",
     "output_type": "stream",
     "text": [
      "Enter number1:-123\n",
      "Enter den1:-21\n",
      "Enter number2:-23\n",
      "Enter den2:-123\n",
      "6.044134727061556\n",
      "15612/2583\n"
     ]
    }
   ],
   "source": [
    "# Q9:- Given 2 fractions, find the sum of those 2 fractions.Take the numerator and denominator values of the fractions from the user.\n",
    "n1=int(input(\"Enter number1:-\"))\n",
    "d1=int(input(\"Enter den1:-\"))\n",
    "n2=int(input(\"Enter number2:-\"))\n",
    "d2=int(input(\"Enter den2:-\"))\n",
    "s=(n1*d2+n2*d1)/(d1*d2)\n",
    "print(s)\n",
    "\n",
    "rn=n1*d2+n2*d1\n",
    "rd=d1*d2\n",
    "print('{}/{}'.format(rn,rd))\n"
   ]
  },
  {
   "cell_type": "code",
   "execution_count": 11,
   "id": "831af3dc",
   "metadata": {},
   "outputs": [
    {
     "name": "stdout",
     "output_type": "stream",
     "text": [
      "Enter the tank height122\n",
      "Enter the tank width22\n",
      "Enter the tank breadth23\n",
      "Enter the glass height332\n",
      "Enter the glass radius23\n",
      "num_glass 0\n"
     ]
    }
   ],
   "source": [
    "# Q 10:- Given the height, width and breadth of a milk tank, you have to find out how many glasses of milk can be obtained? Assume all the inputs are provided by the user.\n",
    "import math\n",
    "tank_h=int(input(\"Enter the tank height\"))\n",
    "tank_b=int(input(\"Enter the tank width\"))\n",
    "tank_w=int(input(\"Enter the tank breadth\"))\n",
    "\n",
    "glass_h=int(input(\"Enter the glass height\"))\n",
    "glass_r=int(input(\"Enter the glass radius\"))\n",
    "\n",
    "vol_tank=tank_h*tank_b*tank_w\n",
    "vol_glass=3.14*glass_r**2*glass_h\n",
    "num_glass=vol_tank/vol_glass\n",
    "print(\"num_glass\",math.floor(num_glass))"
   ]
  },
  {
   "cell_type": "markdown",
   "id": "7f767b0a",
   "metadata": {},
   "source": [
    "# Test 2"
   ]
  },
  {
   "cell_type": "code",
   "execution_count": 12,
   "id": "d825ca84",
   "metadata": {},
   "outputs": [
    {
     "name": "stdout",
     "output_type": "stream",
     "text": [
      "enter your annual ct:22\n",
      "you in hand monthaly salary will be:- 1.5\n"
     ]
    }
   ],
   "source": [
    "# Problem 1: Write a program that will give you in hand monthly salary after deduction on CTC - HRA(10%), DA(5%), PF(3%) and taxes deduction as below:\n",
    "ctc=int(input(\"enter your annual ct:\"))\n",
    "if ctc<5000000:\n",
    "    salary=ctc*.82\n",
    "elif ctc<1000000:\n",
    "    salary=ctc*.72\n",
    "elif ctc<2000000:\n",
    "    salary=ctc*.62\n",
    "else:\n",
    "    salary=ctc*.52\n",
    "print(\"you in hand monthaly salary will be:-\",round(salary/12,2))"
   ]
  },
  {
   "cell_type": "code",
   "execution_count": 13,
   "id": "39715343",
   "metadata": {},
   "outputs": [
    {
     "name": "stdout",
     "output_type": "stream",
     "text": [
      "Enter the 1st angle:-22\n",
      "Enter the 2nd angle:-212\n",
      "Enter the 3rd angle:-21\n",
      "Does not form a tringle\n"
     ]
    }
   ],
   "source": [
    "# Problem 2: Write a program that take a user input of three angles and will find out whether it can form a triangle or not.\n",
    "first=int(input(\"Enter the 1st angle:-\"))\n",
    "second=int(input(\"Enter the 2nd angle:-\"))\n",
    "third=int(input(\"Enter the 3rd angle:-\"))\n",
    "\n",
    "if (first+second+third)==180 and first>0 and second>0 and third>0:\n",
    "    print(\"forms a tringle\")\n",
    "else:\n",
    "    print(\"Does not form a tringle\")\n",
    "    "
   ]
  },
  {
   "cell_type": "code",
   "execution_count": 14,
   "id": "63be9b98",
   "metadata": {},
   "outputs": [
    {
     "name": "stdout",
     "output_type": "stream",
     "text": [
      "Enter the cost price:-122\n",
      "Enter the selling price:-123\n",
      "Profit\n"
     ]
    }
   ],
   "source": [
    "# Problem 3: Write a program that will take user input of cost price and selling price and determines whether its a loss or a profit.\n",
    "cost_price=int(input(\"Enter the cost price:-\"))\n",
    "selling_price=int(input(\"Enter the selling price:-\"))\n",
    "if cost_price<selling_price:\n",
    "    print(\"Profit\")\n",
    "else:\n",
    "    print(\"Loss\")"
   ]
  },
  {
   "cell_type": "code",
   "execution_count": 16,
   "id": "fa0edfbe",
   "metadata": {},
   "outputs": [
    {
     "name": "stdout",
     "output_type": "stream",
     "text": [
      "\n",
      "Hi select option\n",
      "1. Enter cm to ft\n",
      "2. km to miles\n",
      "3. USD to INR\n",
      "4. Exit\n",
      "223\n",
      "incorrect option\n"
     ]
    }
   ],
   "source": [
    "# # Problem 4: Write a menu-driven program -\n",
    "# cm to ft\n",
    "# km to miles\n",
    "# USD to INR\n",
    "# exit\n",
    "menu=(input(\"\"\"\n",
    "Hi select option\n",
    "1. Enter cm to ft\n",
    "2. km to miles\n",
    "3. USD to INR\n",
    "4. Exit\n",
    "\"\"\"))\n",
    "if menu =='1':\n",
    "    cm=int(input(\"Enter cm value:-\"))\n",
    "    print(\"fit value is:-\",0.032*cm)\n",
    "elif menu =='2':\n",
    "    km=int(input(\"Enter km value:-\"))\n",
    "    print(\"miles value is:-\",0.62*km)\n",
    "elif menu =='3':\n",
    "    USD=int(input(\"Enter USD value:-\"))\n",
    "    print(\"INR value is:-\",80*USD)\n",
    "else:\n",
    "    print(\"incorrect option\")\n"
   ]
  },
  {
   "cell_type": "code",
   "execution_count": 17,
   "id": "aaaa57dc",
   "metadata": {},
   "outputs": [
    {
     "name": "stdout",
     "output_type": "stream",
     "text": [
      "0\n",
      "1\n",
      "1\n",
      "2\n",
      "3\n",
      "5\n",
      "8\n",
      "13\n",
      "21\n",
      "34\n"
     ]
    }
   ],
   "source": [
    "# # Problem 5 - Exercise 12: Display Fibonacci series up to 10 terms.\n",
    "num1,num2=0,1\n",
    "for i in range(10):\n",
    "    print(num1)\n",
    "    next=num1+num2\n",
    "    num1=num2\n",
    "    num2=next\n"
   ]
  },
  {
   "cell_type": "code",
   "execution_count": 18,
   "id": "c47b60c0",
   "metadata": {},
   "outputs": [
    {
     "name": "stdout",
     "output_type": "stream",
     "text": [
      "24\n"
     ]
    }
   ],
   "source": [
    "# Problem 6 - Find the factorial of a given number.\n",
    "num=5\n",
    "fact=1\n",
    "for i in range(1,5):\n",
    "    fact=fact*i\n",
    "print(fact)"
   ]
  },
  {
   "cell_type": "code",
   "execution_count": 19,
   "id": "a0b1f187",
   "metadata": {},
   "outputs": [
    {
     "name": "stdout",
     "output_type": "stream",
     "text": [
      "664\n"
     ]
    }
   ],
   "source": [
    "# Problem 7 - Reverse a given integer number.\n",
    "num=466 #int(input(\"Enter number\"))\n",
    "rev=0\n",
    "while num>0:\n",
    "    last=num%10\n",
    "    rev=rev*10+last\n",
    "    num=num//10\n",
    "print(rev)"
   ]
  },
  {
   "cell_type": "code",
   "execution_count": 23,
   "id": "4eee450f",
   "metadata": {},
   "outputs": [
    {
     "name": "stdout",
     "output_type": "stream",
     "text": [
      "Enter the number:-4334\n",
      "302\n",
      "Enter the number:-567\n",
      "276\n"
     ]
    }
   ],
   "source": [
    "# Problem 8: Take a user input as integer N. Find out the sum from 1 to N. If any number if divisible by 5, then skip that number. And if the sum is greater than 300, don't need to calculate the sum further more. Print the final result. And don't use for loop to solve this problem.\n",
    "# using for loop\n",
    "num=int(input(\"Enter the number:-\"))\n",
    "sum=0\n",
    "for i in range(1,num+1):\n",
    "    if i % 5==0:\n",
    "        continue\n",
    "    sum+=i\n",
    "    if sum>300:\n",
    "        sum-=1\n",
    "        break\n",
    "    \n",
    "print(sum)\n",
    "\n",
    "# using while loop\n",
    "num=int(input(\"Enter the number:-\"))\n",
    "sum=0\n",
    "i=1\n",
    "while i<num+1:\n",
    "    if i % 5==0:\n",
    "        i+=1\n",
    "        continue\n",
    "    sum+=i\n",
    "    if sum>300:\n",
    "        sum-=i\n",
    "        break\n",
    "    i+=1\n",
    "    \n",
    "print(sum)"
   ]
  },
  {
   "cell_type": "code",
   "execution_count": 24,
   "id": "f3bba137",
   "metadata": {},
   "outputs": [
    {
     "name": "stdout",
     "output_type": "stream",
     "text": [
      "Enter the number(enter o to stop):-45\n",
      "1035\n",
      "23.0\n",
      "Enter number:-54\n",
      "Enter number:-45\n",
      "Enter number:-0\n",
      "sum 99\n",
      "average 49.5\n"
     ]
    }
   ],
   "source": [
    "# Problem 9: Write a program that keeps on accepting a number from the user until the user enters Zero. Display the sum and average of all the numbers.\n",
    "num=int(input(\"Enter the number(enter o to stop):-\"))\n",
    "sum=0\n",
    "avg=0\n",
    "for i in range(1,num+1):\n",
    "    if num==0:\n",
    "        break\n",
    "    sum+=i\n",
    "    avg+=1\n",
    "if avg>0:\n",
    "    average=sum/avg\n",
    "else:\n",
    "    average=0\n",
    "print(sum)\n",
    "print(average) \n",
    "\n",
    "sum=0\n",
    "count=0\n",
    "while True:\n",
    "    num=int(input(\"Enter number:-\"))\n",
    "    if num==0:\n",
    "        break\n",
    "    sum=sum+num\n",
    "    count=count+1\n",
    "print(\"sum\",sum)\n",
    "print(\"average\",sum/count)"
   ]
  },
  {
   "cell_type": "code",
   "execution_count": 25,
   "id": "c9a3dd0f",
   "metadata": {},
   "outputs": [
    {
     "name": "stdout",
     "output_type": "stream",
     "text": [
      "[21, 28]\n"
     ]
    }
   ],
   "source": [
    "# Problem 9: Write a program which will find all such numbers which are divisible by 7 but are not a multiple of 5, between 2000 and 3200 (both included). The numbers obtained should be printed in a comma-separated sequence on a single line.\n",
    "# for num in range(20, 32):\n",
    "#     if num % 7 == 0 and num % 5 != 0:\n",
    "#         print(num,sep=\",\")\n",
    "\n",
    "# Initialize an empty list to store the numbers\n",
    "result = []\n",
    "\n",
    "for num in range(20, 32):   \n",
    "    if num % 7 == 0 and num % 5 != 0:\n",
    "        result.append(num) \n",
    "print(result)\n"
   ]
  },
  {
   "cell_type": "code",
   "execution_count": 26,
   "id": "13eba8a3",
   "metadata": {},
   "outputs": [
    {
     "name": "stdout",
     "output_type": "stream",
     "text": [
      "20,22,24,26,28\n"
     ]
    }
   ],
   "source": [
    "# Problem 10: Write a program, which will find all such numbers between 1000 and 3000 (both included) such that each digit of the number is an even number. The numbers obtained should be printed in a space-separated sequence on a single line.\n",
    "L=[]\n",
    "for i in range(20,30):\n",
    "    flag =True # line ko change karne ke liye ham flag ka use karte hai\n",
    "    curr=i\n",
    "    while curr>0:\n",
    "        last =curr%10\n",
    "        if last %2 !=0:\n",
    "            flag=False\n",
    "            break\n",
    "        curr=curr//10\n",
    "    if flag:\n",
    "        L.append(str(i))\n",
    "print(\",\".join(L))"
   ]
  },
  {
   "cell_type": "code",
   "execution_count": 28,
   "id": "0dc0df33",
   "metadata": {},
   "outputs": [
    {
     "name": "stdout",
     "output_type": "stream",
     "text": [
      "2 -1\n",
      "Final position of the robot: ({x}, {y})\n"
     ]
    }
   ],
   "source": [
    "# Problem 11: A robot moves in a plane starting from the original point (0,0). The robot can move toward UP, DOWN, LEFT and RIGHT with a given steps.\n",
    "#  Initialize the position of the robot\n",
    "x, y = 0, 0 # initioal value\n",
    "\n",
    "movements = [(\"UP\", 5), (\"RIGHT\", 2), (\"DOWN\", 3), (\"LEFT\", 3)]\n",
    "\n",
    "# Move the robot using a for loop\n",
    "for direction, steps in movements:\n",
    "    # Update position based on direction\n",
    "    if direction == 'UP':\n",
    "        x += steps\n",
    "    elif direction == 'DOWN':\n",
    "        x -= steps\n",
    "    elif direction == 'LEFT':\n",
    "        y -= steps\n",
    "    elif direction == 'RIGHT':\n",
    "        y += steps\n",
    "\n",
    "# Print final position\n",
    "print(x,y)\n",
    "print(\"Final position of the robot: ({x}, {y})\")\n"
   ]
  },
  {
   "cell_type": "code",
   "execution_count": 29,
   "id": "3f29b5db",
   "metadata": {},
   "outputs": [
    {
     "name": "stdout",
     "output_type": "stream",
     "text": [
      "21 is not a prime number\n"
     ]
    }
   ],
   "source": [
    "# Problem 12:Write a program to print whether a given number is a prime number or not\n",
    "num=21\n",
    "flag=False  \n",
    "for i in range(2,num):\n",
    "    if (num%i)==0:\n",
    "        flag=True\n",
    "       \n",
    "        break\n",
    "if flag:\n",
    "    print(num, \"is not a prime number\")\n",
    "else:\n",
    "    print(num, \"is a prime number\")\n"
   ]
  },
  {
   "cell_type": "code",
   "execution_count": 30,
   "id": "95201408",
   "metadata": {},
   "outputs": [
    {
     "name": "stdout",
     "output_type": "stream",
     "text": [
      "Enter number34\n",
      "it is not Armstrong number 34\n"
     ]
    }
   ],
   "source": [
    "# Problem 13:Print all the Armstrong numbers in a given range.\n",
    "num=int(input(\"Enter number\"))\n",
    "sum=0\n",
    "temp=num\n",
    "while temp>0:\n",
    "    digit=temp%10\n",
    "    sum+=digit**3\n",
    "    temp//=10\n",
    "if num==sum:\n",
    "    print(\"it is Armstrong number\",num)\n",
    "else:\n",
    "    print(\"it is not Armstrong number\",num)"
   ]
  },
  {
   "cell_type": "code",
   "execution_count": 32,
   "id": "af2d1372",
   "metadata": {},
   "outputs": [
    {
     "name": "stdout",
     "output_type": "stream",
     "text": [
      "Enter the hour (0-11): 6\n",
      "Enter the minute (0-59): 55\n",
      "The angle between the hour hand and minute hand is 122.5 degrees.\n"
     ]
    }
   ],
   "source": [
    "# Problem 14:Calculate the angle between the hour hand and minute hand.\n",
    "# Note: There can be two angles between hands; we need to print a minimum of two. Also, we need to print the floor of the final result angle. For example, if the final angle is 10.61, we need to print 10.\n",
    "def calculate_clock_angle(hour, minute):\n",
    "    hour_angle = 30 * hour + 0.5 * minute\n",
    "    minute_angle = 6 * minute\n",
    "    angle_between = abs(hour_angle - minute_angle)\n",
    "    if angle_between > 180:\n",
    "        angle_between = 360 - angle_between\n",
    "\n",
    "    return angle_between\n",
    "hour = int(input(\"Enter the hour (0-11): \")) \n",
    "minute = int(input(\"Enter the minute (0-59): \"))\n",
    "angle = calculate_clock_angle(hour, minute)\n",
    "print(f\"The angle between the hour hand and minute hand is {angle} degrees.\")\n",
    "\n",
    "    "
   ]
  },
  {
   "cell_type": "code",
   "execution_count": 33,
   "id": "f086a645",
   "metadata": {},
   "outputs": [
    {
     "name": "stdout",
     "output_type": "stream",
     "text": [
      "Enter the hour (0-11): 4\n",
      "Enter the minute (0-59): 7\n",
      "degree 81.5\n"
     ]
    }
   ],
   "source": [
    "hour = int(input(\"Enter the hour (0-11): \")) \n",
    "minute = int(input(\"Enter the minute (0-59): \"))\n",
    "def calculate_clock_angle(hour, minute):\n",
    "    angle_between = abs(30 * hour + 0.5 * minute - 6 * minute)\n",
    "    if angle_between > 180:\n",
    "        angle_between = 360 - angle_between\n",
    "    return angle_between\n",
    "\n",
    "angle = calculate_clock_angle(hour, minute)\n",
    "print(\"degree\",angle)\n"
   ]
  },
  {
   "cell_type": "markdown",
   "id": "92a050ac",
   "metadata": {},
   "source": [
    "# Test 3"
   ]
  },
  {
   "cell_type": "code",
   "execution_count": 34,
   "id": "87d0b8b6",
   "metadata": {},
   "outputs": [
    {
     "name": "stdout",
     "output_type": "stream",
     "text": [
      "4 3 2 1 \n",
      "3 2 1 \n",
      "2 1 \n",
      "1 \n"
     ]
    }
   ],
   "source": [
    "# Problem 1 - Print the following pattern. Write a program to use for loop to print the following reverse number pattern.\n",
    "row= 4 #int(input(\"Enter number:-\"))\n",
    "for i in range(0,row):\n",
    "    for j in range(row-i,0,-1):\n",
    "        print(j,end=\" \")\n",
    "    print()\n",
    "  \n"
   ]
  },
  {
   "cell_type": "code",
   "execution_count": 35,
   "id": "3782473e",
   "metadata": {},
   "outputs": [
    {
     "name": "stdout",
     "output_type": "stream",
     "text": [
      "* \n",
      "* * \n",
      "* * * \n",
      "* * * * \n",
      "* * * * * \n",
      "* * * * \n",
      "* * * \n",
      "* * \n",
      "* \n"
     ]
    }
   ],
   "source": [
    "# Problem 2: Print the following pattern.\n",
    "row= 5 #int(input(\"Enter number:-\"))\n",
    "for i in range(1,row+1):\n",
    "    for j in range(0,i):\n",
    "        print(\"*\",end=\" \")\n",
    "    print()\n",
    "for i in range(1,row):\n",
    "    for j in range(row-i,0,-1):\n",
    "        print(\"*\",end=\" \")\n",
    "    print()"
   ]
  },
  {
   "cell_type": "code",
   "execution_count": 36,
   "id": "0d3e4835",
   "metadata": {},
   "outputs": [
    {
     "name": "stdout",
     "output_type": "stream",
     "text": [
      "  *\n",
      " ***\n",
      "*****\n",
      "   * \n",
      "  * * \n",
      " * * * \n"
     ]
    }
   ],
   "source": [
    "# Problem 3:Write a program to pring the following pattern\n",
    "rows=3\n",
    "for i in range(0,rows):\n",
    "    for j in range(rows -i -1):\n",
    "        \n",
    "        print(\" \",end=\"\")\n",
    "    for k in range(2*i + 1):\n",
    "        print(\"*\",end=\"\")\n",
    "    print()\n",
    "    \n",
    "rows=3\n",
    "for i in range(1,rows+1):\n",
    "    print(\" \"*rows,end=\"\")\n",
    "    print(\"* \"*i)\n",
    "    rows=rows-1"
   ]
  },
  {
   "cell_type": "code",
   "execution_count": 37,
   "id": "25c8a15d",
   "metadata": {},
   "outputs": [
    {
     "name": "stdout",
     "output_type": "stream",
     "text": [
      "1 \n",
      "2 1 \n",
      "3 2 1 \n",
      "4 3 2 1 \n",
      "5 4 3 2 1 \n"
     ]
    }
   ],
   "source": [
    "# Problem 4:Write a program to print the following pattern\n",
    "rows=5\n",
    "for i in range(1,rows+1):\n",
    "    for j in range(i,0,-1):\n",
    "        print(j,end=\" \")\n",
    "    print()\n"
   ]
  },
  {
   "cell_type": "code",
   "execution_count": 39,
   "id": "ae77ae87",
   "metadata": {},
   "outputs": [
    {
     "name": "stdout",
     "output_type": "stream",
     "text": [
      "Enter the value of x: 34.6\n",
      "Enter number:-2\n",
      "Sum of the series: 633.1800000000001\n",
      "1+ x^2/2+x^3/3+x^4/4+x^5/5\n",
      "16.066666666666666\n"
     ]
    }
   ],
   "source": [
    "# Problem 5: Write a Python Program to Find the Sum of the Series till the nth term:\n",
    "def calculate_series_sum(x, n):\n",
    "    series_sum = 0\n",
    "    for i in range(1, n + 1):    \n",
    "        term = (x ** i) / i\n",
    "        series_sum += term\n",
    "    return series_sum\n",
    "x = float(input(\"Enter the value of x: \"))\n",
    "n=int(input(\"Enter number:-\"))\n",
    "\n",
    "sum_of_series = calculate_series_sum(x, n)\n",
    "print(\"Sum of the series:\", sum_of_series)\n",
    "\n",
    "x=2\n",
    "n=5\n",
    "sum=1\n",
    "s=\"\"\n",
    "print('1+ ',end=\"\")\n",
    "for i in range(2,n+1):\n",
    "    sum=sum+x**i/i\n",
    "    s=s+\"x^{}/{}+\".format(i,i)\n",
    "print(s[:-1])\n",
    "print(sum)"
   ]
  },
  {
   "cell_type": "code",
   "execution_count": 40,
   "id": "218843cd",
   "metadata": {},
   "outputs": [
    {
     "name": "stdout",
     "output_type": "stream",
     "text": [
      "(1/1)*((x-1)/x)**1+(1/2)*((x-1)/x)**2+(1/3)*((x-1)/x)**3+(1/4)*((x-1)/x)**4+(1/5)*((x-1)/x)**5\n",
      "1.8301230000000004\n"
     ]
    }
   ],
   "source": [
    "# Problem 6: The natural logarithm can be approximated by the following series.\n",
    "x=10\n",
    "n=5\n",
    "sum=0\n",
    "s=\"\"\n",
    "\n",
    "for i in range(1,n+1):\n",
    "    sum=sum+(1/i)*((x-1)/x)**i\n",
    "    s=s+\"(1/{})*((x-1)/x)**{}+\".format(i,i)\n",
    "print(s[:-1])\n",
    "print(sum)"
   ]
  },
  {
   "cell_type": "code",
   "execution_count": 41,
   "id": "8442c4d1",
   "metadata": {},
   "outputs": [
    {
     "name": "stdout",
     "output_type": "stream",
     "text": [
      "2+22\n",
      "24\n"
     ]
    }
   ],
   "source": [
    "# Problem 7 - Find the sum of the series upto n terms.\n",
    "# Write a program to calculate the sum of series up to n term. For example, if n =5 the series will become 2 + 22 + 222 + 2222 + 22222 = 24690. Take the user input and then calculate. And the output style should match which is given in the example.\n",
    "n=2 #int(input(\"Enter number:-\"))\n",
    "sum=0\n",
    "start=2\n",
    "for i in range(0,n):\n",
    "    if i<n-1:\n",
    "        print(start,end=\"+\")\n",
    "    else:\n",
    "        print(start)\n",
    "    sum=sum+start\n",
    "    start=start*10+2\n",
    "print(sum)"
   ]
  },
  {
   "cell_type": "code",
   "execution_count": 42,
   "id": "ea75be8c",
   "metadata": {},
   "outputs": [
    {
     "name": "stdout",
     "output_type": "stream",
     "text": [
      "1 1 1 1\n",
      "1 1 2 1\n",
      "1 1 3 1\n",
      "1 1 4 1\n",
      "1 1 1 2\n",
      "1 1 2 2\n",
      "1 1 3 2\n",
      "1 1 4 2\n",
      "1 1 1 3\n",
      "1 1 2 3\n",
      "1 1 3 3\n",
      "1 1 4 3\n",
      "1 1 1 4\n",
      "1 1 2 4\n",
      "1 1 3 4\n",
      "1 1 4 4\n",
      "1 2 1 1\n",
      "1 2 2 1\n",
      "1 2 3 1\n",
      "1 2 4 1\n",
      "1 2 1 2\n",
      "1 2 2 2\n",
      "1 2 3 2\n",
      "1 2 4 2\n",
      "1 2 1 3\n",
      "1 2 2 3\n",
      "1 2 3 3\n",
      "1 2 4 3\n",
      "1 2 1 4\n",
      "1 2 2 4\n",
      "1 2 3 4\n",
      "1 2 4 4\n",
      "1 3 1 1\n",
      "1 3 2 1\n",
      "1 3 3 1\n",
      "1 3 4 1\n",
      "1 3 1 2\n",
      "1 3 2 2\n",
      "1 3 3 2\n",
      "1 3 4 2\n",
      "1 3 1 3\n",
      "1 3 2 3\n",
      "1 3 3 3\n",
      "1 3 4 3\n",
      "1 3 1 4\n",
      "1 3 2 4\n",
      "1 3 3 4\n",
      "1 3 4 4\n",
      "1 4 1 1\n",
      "1 4 2 1\n",
      "1 4 3 1\n",
      "1 4 4 1\n",
      "1 4 1 2\n",
      "1 4 2 2\n",
      "1 4 3 2\n",
      "1 4 4 2\n",
      "1 4 1 3\n",
      "1 4 2 3\n",
      "1 4 3 3\n",
      "1 4 4 3\n",
      "1 4 1 4\n",
      "1 4 2 4\n",
      "1 4 3 4\n",
      "1 4 4 4\n",
      "2 1 1 1\n",
      "2 1 2 1\n",
      "2 1 3 1\n",
      "2 1 4 1\n",
      "2 1 1 2\n",
      "2 1 2 2\n",
      "2 1 3 2\n",
      "2 1 4 2\n",
      "2 1 1 3\n",
      "2 1 2 3\n",
      "2 1 3 3\n",
      "2 1 4 3\n",
      "2 1 1 4\n",
      "2 1 2 4\n",
      "2 1 3 4\n",
      "2 1 4 4\n",
      "2 2 1 1\n",
      "2 2 2 1\n",
      "2 2 3 1\n",
      "2 2 4 1\n",
      "2 2 1 2\n",
      "2 2 2 2\n",
      "2 2 3 2\n",
      "2 2 4 2\n",
      "2 2 1 3\n",
      "2 2 2 3\n",
      "2 2 3 3\n",
      "2 2 4 3\n",
      "2 2 1 4\n",
      "2 2 2 4\n",
      "2 2 3 4\n",
      "2 2 4 4\n",
      "2 3 1 1\n",
      "2 3 2 1\n",
      "2 3 3 1\n",
      "2 3 4 1\n",
      "2 3 1 2\n",
      "2 3 2 2\n",
      "2 3 3 2\n",
      "2 3 4 2\n",
      "2 3 1 3\n",
      "2 3 2 3\n",
      "2 3 3 3\n",
      "2 3 4 3\n",
      "2 3 1 4\n",
      "2 3 2 4\n",
      "2 3 3 4\n",
      "2 3 4 4\n",
      "2 4 1 1\n",
      "2 4 2 1\n",
      "2 4 3 1\n",
      "2 4 4 1\n",
      "2 4 1 2\n",
      "2 4 2 2\n",
      "2 4 3 2\n",
      "2 4 4 2\n",
      "2 4 1 3\n",
      "2 4 2 3\n",
      "2 4 3 3\n",
      "2 4 4 3\n",
      "2 4 1 4\n",
      "2 4 2 4\n",
      "2 4 3 4\n",
      "2 4 4 4\n",
      "3 1 1 1\n",
      "3 1 2 1\n",
      "3 1 3 1\n",
      "3 1 4 1\n",
      "3 1 1 2\n",
      "3 1 2 2\n",
      "3 1 3 2\n",
      "3 1 4 2\n",
      "3 1 1 3\n",
      "3 1 2 3\n",
      "3 1 3 3\n",
      "3 1 4 3\n",
      "3 1 1 4\n",
      "3 1 2 4\n",
      "3 1 3 4\n",
      "3 1 4 4\n",
      "3 2 1 1\n",
      "3 2 2 1\n",
      "3 2 3 1\n",
      "3 2 4 1\n",
      "3 2 1 2\n",
      "3 2 2 2\n",
      "3 2 3 2\n",
      "3 2 4 2\n",
      "3 2 1 3\n",
      "3 2 2 3\n",
      "3 2 3 3\n",
      "3 2 4 3\n",
      "3 2 1 4\n",
      "3 2 2 4\n",
      "3 2 3 4\n",
      "3 2 4 4\n",
      "3 3 1 1\n",
      "3 3 2 1\n",
      "3 3 3 1\n",
      "3 3 4 1\n",
      "3 3 1 2\n",
      "3 3 2 2\n",
      "3 3 3 2\n",
      "3 3 4 2\n",
      "3 3 1 3\n",
      "3 3 2 3\n",
      "3 3 3 3\n",
      "3 3 4 3\n",
      "3 3 1 4\n",
      "3 3 2 4\n",
      "3 3 3 4\n",
      "3 3 4 4\n",
      "3 4 1 1\n",
      "3 4 2 1\n",
      "3 4 3 1\n",
      "3 4 4 1\n",
      "3 4 1 2\n",
      "3 4 2 2\n",
      "3 4 3 2\n",
      "3 4 4 2\n",
      "3 4 1 3\n",
      "3 4 2 3\n",
      "3 4 3 3\n",
      "3 4 4 3\n",
      "3 4 1 4\n",
      "3 4 2 4\n",
      "3 4 3 4\n",
      "3 4 4 4\n",
      "4 1 1 1\n",
      "4 1 2 1\n",
      "4 1 3 1\n",
      "4 1 4 1\n",
      "4 1 1 2\n",
      "4 1 2 2\n",
      "4 1 3 2\n",
      "4 1 4 2\n",
      "4 1 1 3\n",
      "4 1 2 3\n",
      "4 1 3 3\n",
      "4 1 4 3\n",
      "4 1 1 4\n",
      "4 1 2 4\n",
      "4 1 3 4\n",
      "4 1 4 4\n",
      "4 2 1 1\n",
      "4 2 2 1\n",
      "4 2 3 1\n",
      "4 2 4 1\n",
      "4 2 1 2\n",
      "4 2 2 2\n",
      "4 2 3 2\n",
      "4 2 4 2\n",
      "4 2 1 3\n",
      "4 2 2 3\n",
      "4 2 3 3\n",
      "4 2 4 3\n",
      "4 2 1 4\n",
      "4 2 2 4\n",
      "4 2 3 4\n",
      "4 2 4 4\n",
      "4 3 1 1\n",
      "4 3 2 1\n",
      "4 3 3 1\n",
      "4 3 4 1\n",
      "4 3 1 2\n",
      "4 3 2 2\n",
      "4 3 3 2\n",
      "4 3 4 2\n",
      "4 3 1 3\n",
      "4 3 2 3\n",
      "4 3 3 3\n",
      "4 3 4 3\n",
      "4 3 1 4\n",
      "4 3 2 4\n",
      "4 3 3 4\n",
      "4 3 4 4\n",
      "4 4 1 1\n",
      "4 4 2 1\n",
      "4 4 3 1\n",
      "4 4 4 1\n",
      "4 4 1 2\n",
      "4 4 2 2\n",
      "4 4 3 2\n",
      "4 4 4 2\n",
      "4 4 1 3\n",
      "4 4 2 3\n",
      "4 4 3 3\n",
      "4 4 4 3\n",
      "4 4 1 4\n",
      "4 4 2 4\n",
      "4 4 3 4\n",
      "4 4 4 4\n"
     ]
    }
   ],
   "source": [
    "# Problem 8: Write a program to print all the unique combinations of 1,2,3 and 4\n",
    "for i in range(1,5):\n",
    "    for j in range(1,5):\n",
    "        for k in range(1,5):\n",
    "            for m in range(1,5):\n",
    "                print(i,j,m,k)\n",
    "\n"
   ]
  },
  {
   "cell_type": "code",
   "execution_count": 43,
   "id": "357c3e7f",
   "metadata": {},
   "outputs": [
    {
     "name": "stdout",
     "output_type": "stream",
     "text": [
      "Enter number:-45\n",
      "101101"
     ]
    }
   ],
   "source": [
    "# Problem 9: Write a program that will take a decimal number as input and prints out the binary equivalent of the number\n",
    "n=int(input(\"Enter number:-\"))\n",
    "binary =[]\n",
    "while n>0:\n",
    "    binary.append(n%2)\n",
    "    n=n//2\n",
    "\n",
    "for i in binary[::-1]:\n",
    "    print(i,end=\"\")\n"
   ]
  },
  {
   "cell_type": "code",
   "execution_count": 44,
   "id": "7915b881",
   "metadata": {},
   "outputs": [
    {
     "name": "stdout",
     "output_type": "stream",
     "text": [
      "Enter 1st number:-54\n",
      "Enter 2nd number:-67\n",
      "3618\n"
     ]
    }
   ],
   "source": [
    "# Problem 10: Write a program that will take 2 numbers as input and prints the LCM and HCF of those 2 numbers\n",
    "x=int(input(\"Enter 1st number:-\"))\n",
    "y=int(input(\"Enter 2nd number:-\"))\n",
    "if x>y:\n",
    "    greater=x\n",
    "else:\n",
    "    greater=y\n",
    "while True:\n",
    "    if(greater%x==0) and (greater%y==0):\n",
    "        lcm=greater\n",
    "        break\n",
    "    greater=greater+1\n",
    "print(lcm)"
   ]
  },
  {
   "cell_type": "code",
   "execution_count": 45,
   "id": "9fae5bd3",
   "metadata": {},
   "outputs": [
    {
     "name": "stdout",
     "output_type": "stream",
     "text": [
      "Enter 1st number:-44\n",
      "Enter 2nd number:-66\n",
      "22\n"
     ]
    }
   ],
   "source": [
    "x=int(input(\"Enter 1st number:-\"))\n",
    "y=int(input(\"Enter 2nd number:-\"))\n",
    "if x<y:\n",
    "    smaller=x\n",
    "else:\n",
    "    smaller=y\n",
    "for i in range(1,smaller+1):\n",
    "    if (x%i==0) and (y%i==0):\n",
    "        hcf=i\n",
    "print(hcf)"
   ]
  },
  {
   "cell_type": "code",
   "execution_count": 46,
   "id": "07cc11ed",
   "metadata": {},
   "outputs": [
    {
     "name": "stdout",
     "output_type": "stream",
     "text": [
      "DSMP\n"
     ]
    }
   ],
   "source": [
    "# Problem 11: Create Short Form from initial character\n",
    "# Given a string create short form ofthe string from Initial character. Short form should be capitalised.\n",
    "# Data science mentorship program\n",
    "input=\"Data science mentorship program\"\n",
    "res=\"\"\n",
    "for i in input.split():\n",
    "    res=res + i[0].upper()\n",
    "print(res)"
   ]
  },
  {
   "cell_type": "code",
   "execution_count": 47,
   "id": "3db26315",
   "metadata": {},
   "outputs": [
    {
     "name": "stdout",
     "output_type": "stream",
     "text": [
      "ajeevaiRR\n"
     ]
    }
   ],
   "source": [
    "# Problem 13:Given string contains a combination of the lower and upper case letters. Write a program to arrange the characters of a string so that all lowercase letters should come first.\n",
    "s=\"RajeevRai\"\n",
    "upper=\"\"\n",
    "lower=\"\"\n",
    "for i in s:\n",
    "    if i.islower():\n",
    "        lower=lower+i\n",
    "    else:\n",
    "        upper=upper+i\n",
    "print(lower+upper)"
   ]
  },
  {
   "cell_type": "code",
   "execution_count": 48,
   "id": "fe10dc8e",
   "metadata": {},
   "outputs": [
    {
     "name": "stdout",
     "output_type": "stream",
     "text": [
      "12\n",
      "4.0\n"
     ]
    }
   ],
   "source": [
    "# Problem 14:Take a alphanumeric string input and print the sum and average of the digits that appear in the string, ignoring all other characters\n",
    "s=\"hasidh2ka82\"\n",
    "sum=0\n",
    "count=0\n",
    "for i in s:\n",
    "    if i.isdigit():\n",
    "        sum=sum+int(i)\n",
    "        count+=1\n",
    "print(sum)\n",
    "print(sum/count)"
   ]
  },
  {
   "cell_type": "code",
   "execution_count": 49,
   "id": "4598acc1",
   "metadata": {},
   "outputs": [
    {
     "name": "stdout",
     "output_type": "stream",
     "text": [
      "2510\n"
     ]
    }
   ],
   "source": [
    "# Problem 15: Removal of all characters from a string except integers\n",
    "str1 = 'I am 25 years and 10 months old'\n",
    "res=''\n",
    "for i in str1:\n",
    "    if i.isdigit():\n",
    "        res+=i\n",
    "print(res)"
   ]
  },
  {
   "cell_type": "code",
   "execution_count": 50,
   "id": "121e0c1f",
   "metadata": {},
   "outputs": [
    {
     "name": "stdout",
     "output_type": "stream",
     "text": [
      "not Symmetrical\n"
     ]
    }
   ],
   "source": [
    "# Problem 16: Check whether the string is Symmetrical.\n",
    "# Statement: Given a string. the task is to check if the string is symmetrical or not. A string is said to be symmetrical if both the halves of the string are the same.\n",
    "s=\"kho\"\n",
    "if len(s)%2==0:\n",
    "    s1=s[0:len(s)//2]\n",
    "    s2=s[len(s)//2:]\n",
    "else:\n",
    "    s1=s[0:len(s)//2]\n",
    "    s2=s[len(s)//2+1:]\n",
    "if s1==s2:\n",
    "    print(\"Symmetrical\")\n",
    "else:\n",
    "    print(\"not Symmetrical\")"
   ]
  },
  {
   "cell_type": "code",
   "execution_count": 51,
   "id": "55342c8f",
   "metadata": {},
   "outputs": [
    {
     "name": "stdout",
     "output_type": "stream",
     "text": [
      "rajeev you are how\n"
     ]
    }
   ],
   "source": [
    "# Problem 17: Reverse words in a given String\n",
    "s=\"how are you rajeev\"\n",
    "L=[]\n",
    "for i in s.split():\n",
    "    L.append(i)\n",
    "L=L[::-1]\n",
    "print(\" \".join(L))    "
   ]
  },
  {
   "cell_type": "code",
   "execution_count": 52,
   "id": "55cefcf8",
   "metadata": {},
   "outputs": [
    {
     "name": "stdout",
     "output_type": "stream",
     "text": [
      "['apple', 'fruits']\n"
     ]
    }
   ],
   "source": [
    "# Problem 18: Find uncommon words from two Strings.\n",
    "A = \"apple banana mango\" \n",
    "B = \"banana fruits mango\"\n",
    "L=[]\n",
    "for i in A.split():\n",
    "    if i not in B and i not in L:\n",
    "        \n",
    "        L.append(i)\n",
    "for i in B.split():\n",
    "    if i not in A and i not in L:\n",
    "        \n",
    "        L.append(i)\n",
    "print(L)"
   ]
  },
  {
   "cell_type": "markdown",
   "id": "12d12c69",
   "metadata": {},
   "source": [
    "# Problem 19: Word location in String.\n",
    "S= \"We can learn data science through campusx mentorship program\"\n",
    "w=\"campusx\"\n",
    "pos=0\n",
    "for i in S.split():\n",
    "    if i ==w:\n",
    "        pos+=1\n",
    "        break\n",
    "    pos+=1\n",
    "print(pos)"
   ]
  },
  {
   "cell_type": "code",
   "execution_count": 53,
   "id": "5c1b1712",
   "metadata": {},
   "outputs": [
    {
     "name": "stdout",
     "output_type": "stream",
     "text": [
      "sfegtdv\n"
     ]
    }
   ],
   "source": [
    "# Problem 20: Write a program that can remove all the duplicate characters from a string. User will provide the input.\n",
    "\n",
    "s=\"ssssfefgftdvgfg\"\n",
    "res=''\n",
    "for i in s:\n",
    "    if i not in res:\n",
    "        res=res+i\n",
    "print(res)\n",
    "        \n"
   ]
  },
  {
   "cell_type": "markdown",
   "id": "fb8f10c1",
   "metadata": {},
   "source": [
    "# Test 4"
   ]
  },
  {
   "cell_type": "code",
   "execution_count": 54,
   "id": "4d755695",
   "metadata": {},
   "outputs": [
    {
     "name": "stdout",
     "output_type": "stream",
     "text": [
      "<zip object at 0x000001D6C82D6140>\n"
     ]
    },
    {
     "data": {
      "text/plain": [
       "[['M', 'y'], ['na', 'me'], ['i', 's'], ['Kh', 'an']]"
      ]
     },
     "execution_count": 54,
     "metadata": {},
     "output_type": "execute_result"
    }
   ],
   "source": [
    "# Problem 1: Combine two lists index-wise(columns wise)\n",
    "list1 = [\"M\", \"na\", \"i\", \"Kh\"]\n",
    "list2 = [\"y\", \"me\", \"s\", \"an\"]\n",
    "print(zip(list1,list2))\n",
    "[[i,j] for (i,j) in zip(list1,list2)]"
   ]
  },
  {
   "cell_type": "code",
   "execution_count": 57,
   "id": "248cedd5",
   "metadata": {},
   "outputs": [
    {
     "data": {
      "text/plain": [
       "[10, 20, [300, 400, [5000, 6000, 7000], 500], 30, 40]"
      ]
     },
     "execution_count": 57,
     "metadata": {},
     "output_type": "execute_result"
    }
   ],
   "source": [
    "# Problem 2: Add new item to list after a specified item\n",
    "l = [10, 20, [300, 400, [5000, 6000], 500], 30, 40]\n",
    "l[2][2].append(7000)\n",
    "l"
   ]
  },
  {
   "cell_type": "code",
   "execution_count": 58,
   "id": "5609beb2",
   "metadata": {},
   "outputs": [
    {
     "name": "stdout",
     "output_type": "stream",
     "text": [
      "Jelly Belly - 10\n",
      "Kit Kat - 20\n",
      "Double Bubble - 34\n",
      "Milky Way - 74\n",
      "Three Musketeers - 32\n"
     ]
    }
   ],
   "source": [
    "# Problem 3: Update no of items available\n",
    "candy_list = ['Jelly Belly','Kit Kat','Double Bubble','Milky Way','Three Musketeers']\n",
    "no_of_items = [10,20,34,74,32]\n",
    "for (i,j) in zip(candy_list,no_of_items):\n",
    "    \n",
    "    print(i,\"-\",j)"
   ]
  },
  {
   "cell_type": "code",
   "execution_count": 59,
   "id": "21f1d56e",
   "metadata": {},
   "outputs": [
    {
     "name": "stdout",
     "output_type": "stream",
     "text": [
      "[1, 3, 6, 10, 15, 21]\n"
     ]
    }
   ],
   "source": [
    "# Problem 4: Running Sum on list\n",
    "# Write a program to print a list after performing running sum on it.\n",
    "l = [1,2,3,4,5,6]\n",
    "sum=0\n",
    "r=[]\n",
    "for i in l:\n",
    "    sum=sum+i\n",
    "    r.append(sum)\n",
    "print(r)\n"
   ]
  },
  {
   "cell_type": "code",
   "execution_count": 60,
   "id": "81e82c26",
   "metadata": {},
   "outputs": [
    {
     "name": "stdout",
     "output_type": "stream",
     "text": [
      "[22, 20, 16, 10, 23]\n"
     ]
    }
   ],
   "source": [
    "# Problem 5: You are given a list of integers. You are asked to make a list by running through elements of the list by adding all elements greater and itself.\n",
    "l=[2,4,6,10,1]\n",
    "\n",
    "r=[]\n",
    "for i in l:\n",
    "    sum=0\n",
    "    for j in l:\n",
    "        if i<=j:\n",
    "            sum=sum+j\n",
    "        \n",
    "    r.append(sum)\n",
    "print(r)"
   ]
  },
  {
   "cell_type": "code",
   "execution_count": 61,
   "id": "4210f645",
   "metadata": {},
   "outputs": [
    {
     "name": "stdout",
     "output_type": "stream",
     "text": [
      "[67, 89, 34]\n"
     ]
    }
   ],
   "source": [
    "# Problem 6: Find list of common unique items from two list. and show in increasing order\n",
    "num1 = [23,45,67,78,89,34]\n",
    "num2 = [34,89,55,56,39,67]\n",
    "common=[]\n",
    "for i in num1:\n",
    "    if i not in common:\n",
    "        if i in num2:\n",
    "            common.append(i)\n",
    "print(common)"
   ]
  },
  {
   "cell_type": "code",
   "execution_count": 62,
   "id": "7e33811d",
   "metadata": {},
   "outputs": [
    {
     "data": {
      "text/plain": [
       "[6, 4, 2, 1, 10]"
      ]
     },
     "execution_count": 62,
     "metadata": {},
     "output_type": "execute_result"
    }
   ],
   "source": [
    "# Problem 7: Sort a list of alphanumeric strings based on product value of numeric character in it. If in any string there is no numeric character take it's product value as 1.\n",
    "a=['1ac21', '23fg', '456', '098d','1','kls']\n",
    "r=[]\n",
    "for i in a:\n",
    "    p=1\n",
    "    for char in i:\n",
    "        if char.isdigit():\n",
    "            p=p*int(char)\n",
    "    r.append(p)\n",
    "[i[1] for i in sorted(list(zip(r,l)),reverse=True)]\n",
    "    \n",
    "    "
   ]
  },
  {
   "cell_type": "code",
   "execution_count": 63,
   "id": "99d0e197",
   "metadata": {},
   "outputs": [
    {
     "name": "stdout",
     "output_type": "stream",
     "text": [
      "['CampusX', 'is', 'a', 'channel', 'for', 'data-science', 'aspirants.']\n"
     ]
    }
   ],
   "source": [
    "# Problem 8: Split String of list on K character.\n",
    "a=['CampusX is a channel', 'for data-science', 'aspirants.']\n",
    "inp=' '\n",
    "result=[]\n",
    "for i in a:\n",
    "    result.extend(i.split(inp))\n",
    "print(result)"
   ]
  },
  {
   "cell_type": "code",
   "execution_count": 64,
   "id": "b8121f31",
   "metadata": {},
   "outputs": [
    {
     "name": "stdout",
     "output_type": "stream",
     "text": [
      "campux is best channel\n"
     ]
    },
    {
     "data": {
      "text/plain": [
       "['campux', 'is', 'best', 'channel']"
      ]
     },
     "execution_count": 64,
     "metadata": {},
     "output_type": "execute_result"
    }
   ],
   "source": [
    "# Problem 9: Convert Character Matrix to single String using string comprehension.\n",
    "\n",
    "L = [['c', 'a', 'm', 'p', 'u', 'x'], ['i', 's'], ['b', 'e', 's', 't'], ['c', 'h', 'a', 'n', 'n', 'e', 'l']]\n",
    "print(\" \".join([\"\".join(i) for i in L]))\n",
    "([\"\".join(i) for i in L])"
   ]
  },
  {
   "cell_type": "code",
   "execution_count": 65,
   "id": "4b22e995",
   "metadata": {},
   "outputs": [
    {
     "name": "stdout",
     "output_type": "stream",
     "text": [
      "[' campusx Is', ' best For', ' data Scientist']\n"
     ]
    }
   ],
   "source": [
    "# Problem 10: Add Space between Potential Words.\n",
    "test_list= ['campusxIs', 'bestFor', 'dataScientist']\n",
    "res=[]\n",
    "for i in test_list:\n",
    "    temp=[[]]\n",
    "    for char in i:\n",
    "        if char.isupper():\n",
    "            temp.append([])\n",
    "        temp[-1].append(char)\n",
    "    temp_string =\" \"\n",
    "    for item in temp:\n",
    "        temp_string = temp_string + \"\".join(item) + \" \"\n",
    "    res.append(temp_string[0:-1])\n",
    "print(res)"
   ]
  },
  {
   "cell_type": "code",
   "execution_count": 66,
   "id": "dac326ef",
   "metadata": {},
   "outputs": [
    {
     "name": "stdout",
     "output_type": "stream",
     "text": [
      "[1, 2, 3, 4, 5, 7, 8]\n"
     ]
    }
   ],
   "source": [
    "# Problem 11: Write a program that can perform union operation on 2 lists\n",
    "L1=[1,2,3,4,5,1]\n",
    "L2=[2,3,5,7,8]\n",
    "union=[]\n",
    "for i in L1:\n",
    "    if i not in union:\n",
    "        union.append(i)\n",
    "for j in L2:\n",
    "    if j not in union:\n",
    "        union.append(j)\n",
    "print(union)"
   ]
  },
  {
   "cell_type": "code",
   "execution_count": 67,
   "id": "ee6b0de7",
   "metadata": {},
   "outputs": [
    {
     "name": "stdout",
     "output_type": "stream",
     "text": [
      "[3, 6, 9]\n"
     ]
    }
   ],
   "source": [
    "# Problem 12: Write a program that can find the max number of each row of a matrix\n",
    "L=[[1,2,3],[4,5,6],[7,8,9]]\n",
    "L1=[]\n",
    "for i in L:\n",
    "    L1.append(max(i))\n",
    "print(L1)"
   ]
  },
  {
   "cell_type": "code",
   "execution_count": 68,
   "id": "3dce1c5b",
   "metadata": {},
   "outputs": [
    {
     "data": {
      "text/plain": [
       "[[0, 1, 2], [3, 4, 5], [6, 7, 8], [9, 10, 11]]"
      ]
     },
     "execution_count": 68,
     "metadata": {},
     "output_type": "execute_result"
    }
   ],
   "source": [
    "# Problem 13: Write a list comprehension to print the following matrix\n",
    "[[0, 1, 2], [3, 4, 5], [6, 7, 8]]\n",
    "[[j + 3*i for j in range(0,3)] for i in range(0,4)]"
   ]
  },
  {
   "cell_type": "code",
   "execution_count": 69,
   "id": "319bf203",
   "metadata": {},
   "outputs": [
    {
     "data": {
      "text/plain": [
       "[[1, 4, 7], [2, 5, 8], [3, 6, 9]]"
      ]
     },
     "execution_count": 69,
     "metadata": {},
     "output_type": "execute_result"
    }
   ],
   "source": [
    "# Problem 14: Write a list comprehension that can transpose a given matrix\n",
    "matrix = [\n",
    "[1,2,3],\n",
    "[4,5,6],\n",
    "[7,8,9]\n",
    "]\n",
    "\n",
    "[1, 4, 7]\n",
    "[2, 5, 8]\n",
    "[3, 6, 9]\n",
    "\n",
    "[[row[i] for row in matrix]for i in range(len(matrix))]"
   ]
  },
  {
   "cell_type": "code",
   "execution_count": 70,
   "id": "b10c8c53",
   "metadata": {},
   "outputs": [
    {
     "data": {
      "text/plain": [
       "[1, 2, 3, 4, 5, 6, 7, 8, 9]"
      ]
     },
     "execution_count": 70,
     "metadata": {},
     "output_type": "execute_result"
    }
   ],
   "source": [
    "# Problem 15: Write a list comprehension that can flatten a nested list\n",
    "\n",
    "matrix = [\n",
    "[1,2,3],\n",
    "[4,5,6],\n",
    "[7,8,9]\n",
    "]\n",
    "# for row in matrix:\n",
    "#     for item in row:\n",
    "#         print(item,end=\" \")\n",
    "[item for row in matrix for item in row]"
   ]
  },
  {
   "cell_type": "markdown",
   "id": "ef824f0d",
   "metadata": {},
   "source": [
    "# Task 5"
   ]
  },
  {
   "cell_type": "code",
   "execution_count": 71,
   "id": "d8d715d8",
   "metadata": {},
   "outputs": [
    {
     "name": "stdout",
     "output_type": "stream",
     "text": [
      "[(5, 6, 7, 8), (6, 10), (7, 13)]\n"
     ]
    }
   ],
   "source": [
    "# Q 1: Join Tuples if similar initial element\n",
    "# While working with Python tuples, we can have a problem in which we need to perform concatenation of records from the similarity of initial element. This problem can have applications in data domains such as Data Science.\n",
    "test_list = [(5, 6), (5, 7), (5, 8), (6, 10), (7, 13)] \n",
    "unique=[]\n",
    "for i in test_list:\n",
    "    unique.append(i[0])\n",
    "unique=set(unique)\n",
    "result=[]\n",
    "for i in unique:\n",
    "    result.append([i])\n",
    "    for j in test_list:\n",
    "        if j[0]==i:\n",
    "            result[-1].append(j[1])\n",
    "print(list(map(tuple,result)))\n"
   ]
  },
  {
   "cell_type": "code",
   "execution_count": 72,
   "id": "0be44f21",
   "metadata": {},
   "outputs": [
    {
     "name": "stdout",
     "output_type": "stream",
     "text": [
      "[5, 40, 91, 136, 80]\n"
     ]
    }
   ],
   "source": [
    "# Q2: Multiply Adjacent elements (both side) and take sum of right and lest side multiplication result.\n",
    "t=(1, 5, 7, 8, 10)\n",
    "L=[]\n",
    "L.append(t[0]*t[1])\n",
    "for i in range(1,len(t)-1):\n",
    "    L.append(t[i]*t[i-1]+t[i]*t[i+1])\n",
    "L.append(t[-1]*t[-2])\n",
    "print(L)"
   ]
  },
  {
   "cell_type": "code",
   "execution_count": 73,
   "id": "688204b2",
   "metadata": {},
   "outputs": [
    {
     "name": "stdout",
     "output_type": "stream",
     "text": [
      "same\n"
     ]
    }
   ],
   "source": [
    "# Q3: Check is tuples are same or not?\n",
    "# Two tuples would be same if both tuples have same element at same index\n",
    "t1 = (1,2,3,0)\n",
    "t2 = (1,2,3,0)\n",
    "flag=True\n",
    "for i,j in zip(t1,t2):\n",
    "    if i==j:\n",
    "        continue\n",
    "    else:\n",
    "        flag=False\n",
    "        break\n",
    "if flag:\n",
    "    print(\"same\")\n",
    "else:\n",
    "    print(\"not same\")"
   ]
  },
  {
   "cell_type": "code",
   "execution_count": 74,
   "id": "d0fa60be",
   "metadata": {},
   "outputs": [
    {
     "name": "stdout",
     "output_type": "stream",
     "text": [
      "list\n"
     ]
    }
   ],
   "source": [
    "# Q4: Count no of tuples, list and set from a list\n",
    "L = [{'hi', 'bye'},{'Geeks', 'forGeeks'},('a', 'b'),['hi', 'bye'],['a', 'b']]\n",
    "output=[0,0,0]\n",
    "for i in L:\n",
    "    if type(i)==list:\n",
    "        output[0] =output[0] + 1\n",
    "    elif type(i)==tuple:\n",
    "        output[0] =output[1] + 1\n",
    "    elif type(i) ==set:\n",
    "        output[2]==output[2]+1\n",
    "    else:\n",
    "        pass\n",
    "print('list')\n"
   ]
  },
  {
   "cell_type": "code",
   "execution_count": 75,
   "id": "831c8a94",
   "metadata": {},
   "outputs": [],
   "source": [
    "# student = []\n",
    "# num = int(input(\"Enter the number of applicants: \"))\n",
    "# for i in range(num):\n",
    "#     print(\"Enter details of\", i + 1, \"applicant:\")\n",
    "#     name = input(\"Enter name: \")\n",
    "#     skill = input(\"Enter primary skill: \")\n",
    "#     education = input(\"Enter higher education: \")\n",
    "#     yog = input(\"Enter year of graduation: \")\n",
    "    \n",
    "#     student.append((name,skill,education,yog))\n",
    "    \n",
    "# required_skill=input(\"enter required skill:-\")\n",
    "# required_education=input(\"Enter higher education:- \")\n",
    "# required_yog=input(\"Enter year of graduation:-\")\n",
    "\n",
    "# flag=False\n",
    "# for i in student:\n",
    "#     if i[1] ==required_skill and i[2] ==required_H_E and i[3] ==required_yog:\n",
    "#         print(i)\n",
    "#         flag=True\n",
    "# if flag==False:\n",
    "#     print(\"no such candidates:-\")\n",
    "    \n"
   ]
  },
  {
   "cell_type": "markdown",
   "id": "2c5f0549",
   "metadata": {},
   "source": [
    "# Set"
   ]
  },
  {
   "cell_type": "code",
   "execution_count": 76,
   "id": "0447c071",
   "metadata": {},
   "outputs": [
    {
     "name": "stdout",
     "output_type": "stream",
     "text": [
      "[80, 20]\n"
     ]
    }
   ],
   "source": [
    "# Q1: Write a program to find set of common elements in three lists using sets.\n",
    "ar1 = [1, 5, 10, 20, 40, 80]\n",
    "ar2 = [6, 7, 20, 80, 100]\n",
    "ar3 = [3, 4, 15, 20, 30, 70, 80, 120]\n",
    "s1=set(ar1)\n",
    "s2=set(ar2)\n",
    "s3=set(ar3)\n",
    "\n",
    "result=list((s1 & s2) & s3)\n",
    "print(result)"
   ]
  },
  {
   "cell_type": "code",
   "execution_count": 77,
   "id": "3f996214",
   "metadata": {},
   "outputs": [
    {
     "name": "stdout",
     "output_type": "stream",
     "text": [
      "NO OF UNIQUE vowel:- 6\n"
     ]
    }
   ],
   "source": [
    "# Q2: Write a program to count unique number of vowels using sets in a given string. Lowercase and upercase vowels will be taken as different.\n",
    "vowel=set(\"aeiouAEIOU\")\n",
    "s=set(\"hands-on data science mentorship progrAm with live classes at affordable fee only on CampusX\")\n",
    "print('NO OF UNIQUE vowel:-',len(s & vowel))"
   ]
  },
  {
   "cell_type": "code",
   "execution_count": 78,
   "id": "c12b9bf7",
   "metadata": {},
   "outputs": [
    {
     "name": "stdout",
     "output_type": "stream",
     "text": [
      "binary\n"
     ]
    }
   ],
   "source": [
    "# Q3: Write a program to Check if a given string is binary string of or not.\n",
    "# s=\"010101010101\"\n",
    "s=\"TF\"\n",
    "if len(set(s))==2:\n",
    "    print('binary')\n",
    "else:\n",
    "    print('not binary')"
   ]
  },
  {
   "cell_type": "code",
   "execution_count": 79,
   "id": "9a55ad0c",
   "metadata": {},
   "outputs": [
    {
     "name": "stdout",
     "output_type": "stream",
     "text": [
      "{1, 2, 3, 4, 5, 6, 7, 9}\n"
     ]
    }
   ],
   "source": [
    "# Q4: find union of n arrays.\n",
    "L = [[1, 2, 2, 4, 3, 6],\n",
    " [5, 1, 3, 4],\n",
    " [9, 5, 7, 1],\n",
    " [2, 4, 1, 3]]\n",
    "s=set()\n",
    "for i in L:\n",
    "    s.update(i)\n",
    "print(s)"
   ]
  },
  {
   "cell_type": "code",
   "execution_count": 80,
   "id": "a2b6a6ee",
   "metadata": {},
   "outputs": [
    {
     "data": {
      "text/plain": [
       "[4, 5, 9, 10]"
      ]
     },
     "execution_count": 80,
     "metadata": {},
     "output_type": "execute_result"
    }
   ],
   "source": [
    "# Q5: Intersection of two lists. Intersection of two list means we need to take all those elements which are common to both of the initial lists and store them into another list. Only use using list-comprehension.\n",
    "lst1 = {15, 9, 10, 56, 23, 78, 5, 4, 9}\n",
    "lst2 = {9, 4, 5, 36, 47, 26, 10, 45, 87}\n",
    "[item for item in lst1 if item in lst2]"
   ]
  },
  {
   "cell_type": "markdown",
   "id": "96e0bfe3",
   "metadata": {},
   "source": [
    "# Dictionary"
   ]
  },
  {
   "cell_type": "code",
   "execution_count": 81,
   "id": "3ad61f3c",
   "metadata": {},
   "outputs": [
    {
     "name": "stdout",
     "output_type": "stream",
     "text": [
      "Best\n"
     ]
    }
   ],
   "source": [
    "# Q1: Key with maximum unique values\n",
    "# Given a dictionary with values list, extract key whose value has most unique values.\n",
    "test_dict = {\"CampusX\" : [5, 7, 7, 7, 7], \"is\" : [6, 7, 7, 7], \"Best\" : [9, 9, 6, 5, 5]}\n",
    "max_val=0\n",
    "max_key=''\n",
    "for i in test_dict:\n",
    "    if max_val < len(set(test_dict[i])):\n",
    "        max_val = len(set(test_dict[i]))\n",
    "        max_key=i\n",
    "print(max_key)"
   ]
  },
  {
   "cell_type": "code",
   "execution_count": 82,
   "id": "bea5573f",
   "metadata": {},
   "outputs": [
    {
     "name": "stdout",
     "output_type": "stream",
     "text": [
      "CampusX is the best channel for Data-Science students.\n"
     ]
    }
   ],
   "source": [
    "# Q2: Replace words from Dictionary. Given String, replace it’s words from lookup dictionary.\n",
    "test_str = 'CampusX best for DS students.'\n",
    "repl_dict = {\"best\" : \"is the best channel\", \"DS\" : \"Data-Science\"}\n",
    "res=[]\n",
    "for i in test_str.split():\n",
    "    if i in repl_dict:\n",
    "        res.append(repl_dict[i])\n",
    "    else:\n",
    "        res.append(i)\n",
    "print(\" \".join(res))"
   ]
  },
  {
   "cell_type": "code",
   "execution_count": 83,
   "id": "970ccae6",
   "metadata": {},
   "outputs": [
    {
     "name": "stdout",
     "output_type": "stream",
     "text": [
      "Rajeev is going to market with small brother\n"
     ]
    }
   ],
   "source": [
    "r=\"Rajeev is boy\"\n",
    "p={\"is\":\"is going to market\",\"boy\":\"with small brother\"}\n",
    "res=[]\n",
    "for i in r.split():\n",
    "    if i in p:\n",
    "        res.append(p[i])\n",
    "    else:\n",
    "        res.append(i)\n",
    "print(\" \".join(res))"
   ]
  },
  {
   "cell_type": "code",
   "execution_count": 84,
   "id": "fd41068b",
   "metadata": {},
   "outputs": [
    {
     "name": "stdout",
     "output_type": "stream",
     "text": [
      "[{'name': 'DataScience', 'id': 3, 'Age': 22}, {'name': 'is', 'id': 8, 'Age': 23}]\n"
     ]
    }
   ],
   "source": [
    "# Q3: Convert List to List of dictionaries. Given list values and keys list, convert these values to key value pairs in form of list of dictionaries.\n",
    "test_list = [\"DataScience\", 3, 22, \"is\", 8,23]\n",
    "key_list = [\"name\", \"id\",\"Age\"]\n",
    "n=len(test_list)\n",
    "res=[]\n",
    "for i in range(0,n,3):\n",
    "    res.append({key_list[0]:test_list[i],key_list[1]:test_list[i+1],key_list[2]:test_list[i+2]})\n",
    "print(res)"
   ]
  },
  {
   "cell_type": "code",
   "execution_count": 85,
   "id": "17e9df65",
   "metadata": {},
   "outputs": [
    {
     "name": "stdout",
     "output_type": "stream",
     "text": [
      "{'akash': [10], 'gaurav': [12], 'anand': [14], 'suraj': [20], 'akhil': [25], 'ashish': [30]}\n"
     ]
    }
   ],
   "source": [
    "# Q4: Convert a list of Tuples into Dictionary.\n",
    "L1 = [(\"akash\", 10), (\"gaurav\", 12), (\"anand\", 14), (\"suraj\", 20), (\"akhil\", 25), (\"ashish\", 30)]\n",
    "# L = [('A', 1), ('B', 2), ('C', 3)]\n",
    "d={}\n",
    "for i,j in L1:\n",
    "    d[i]=[j]\n",
    "print(d)"
   ]
  },
  {
   "cell_type": "code",
   "execution_count": 86,
   "id": "b0e2b880",
   "metadata": {},
   "outputs": [
    {
     "name": "stdout",
     "output_type": "stream",
     "text": [
      "{'a': [4, 19], 'b': [10, 12], 'c': [3]}\n"
     ]
    }
   ],
   "source": [
    "# Q5: Sort Dictionary key and values List.\n",
    "d = {'c': [3], 'b': [12, 10], 'a': [19, 4]}\n",
    "res={}\n",
    "for i in sorted(d):\n",
    "    \n",
    "      res[i] = sorted(d[i])\n",
    "print(res)"
   ]
  },
  {
   "cell_type": "code",
   "execution_count": null,
   "id": "70537606",
   "metadata": {},
   "outputs": [],
   "source": []
  },
  {
   "cell_type": "code",
   "execution_count": null,
   "id": "b875a70f",
   "metadata": {},
   "outputs": [],
   "source": []
  },
  {
   "cell_type": "code",
   "execution_count": null,
   "id": "c430bfeb",
   "metadata": {},
   "outputs": [],
   "source": []
  },
  {
   "cell_type": "code",
   "execution_count": null,
   "id": "72544f66",
   "metadata": {},
   "outputs": [],
   "source": []
  }
 ],
 "metadata": {
  "kernelspec": {
   "display_name": "Python 3 (ipykernel)",
   "language": "python",
   "name": "python3"
  },
  "language_info": {
   "codemirror_mode": {
    "name": "ipython",
    "version": 3
   },
   "file_extension": ".py",
   "mimetype": "text/x-python",
   "name": "python",
   "nbconvert_exporter": "python",
   "pygments_lexer": "ipython3",
   "version": "3.10.9"
  }
 },
 "nbformat": 4,
 "nbformat_minor": 5
}
